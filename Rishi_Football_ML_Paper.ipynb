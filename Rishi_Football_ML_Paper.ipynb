{
  "nbformat": 4,
  "nbformat_minor": 0,
  "metadata": {
    "colab": {
      "provenance": [],
      "toc_visible": true
    },
    "kernelspec": {
      "name": "python3",
      "display_name": "Python 3"
    },
    "language_info": {
      "name": "python"
    }
  },
  "cells": [
    {
      "cell_type": "markdown",
      "source": [
        "## Rishi's Football Project\n",
        "\n",
        "Creating a live match predictor for the Premier League"
      ],
      "metadata": {
        "id": "u-Vm2rt8QGng"
      }
    },
    {
      "cell_type": "code",
      "execution_count": null,
      "metadata": {
        "id": "RWFfnLbfPCr_"
      },
      "outputs": [],
      "source": [
        "import numpy as np\n",
        "import pandas as pd\n",
        "import matplotlib.pyplot as plt\n",
        "import sklearn\n",
        "from sklearn.tree import DecisionTreeClassifier\n",
        "from sklearn.ensemble import RandomForestClassifier"
      ]
    },
    {
      "cell_type": "code",
      "source": [
        "# Import dataset\n",
        "df = pd.read_csv('FB_2023 - Sheet1.csv')"
      ],
      "metadata": {
        "id": "_jT-5DD3QFN7"
      },
      "execution_count": null,
      "outputs": []
    },
    {
      "cell_type": "code",
      "source": [
        "df.shape"
      ],
      "metadata": {
        "colab": {
          "base_uri": "https://localhost:8080/"
        },
        "id": "OXTlwzvgiuF3",
        "outputId": "5b631236-4a95-40c6-9c6b-ba10710a3268"
      },
      "execution_count": null,
      "outputs": [
        {
          "output_type": "execute_result",
          "data": {
            "text/plain": [
              "(380, 108)"
            ]
          },
          "metadata": {},
          "execution_count": 4
        }
      ]
    },
    {
      "cell_type": "code",
      "source": [
        "df.info"
      ],
      "metadata": {
        "colab": {
          "base_uri": "https://localhost:8080/"
        },
        "id": "HssPNn_ai_sd",
        "outputId": "8576fd6c-c12a-49ea-cc45-b9d9bcc0852f"
      },
      "execution_count": null,
      "outputs": [
        {
          "output_type": "execute_result",
          "data": {
            "text/plain": [
              "<bound method DataFrame.info of     Div        Date   Time        HomeTeam       AwayTeam  \\\n",
              "0    E0  05/08/2022  20:00  Crystal Palace        Arsenal   \n",
              "1    E0  06/08/2022  12:30          Fulham      Liverpool   \n",
              "2    E0  06/08/2022  15:00     Bournemouth    Aston Villa   \n",
              "3    E0  06/08/2022  15:00           Leeds         Wolves   \n",
              "4    E0  06/08/2022  15:00       Newcastle  Nott'm Forest   \n",
              "..   ..         ...    ...             ...            ...   \n",
              "375  E0  28/05/2023  16:30         Everton    Bournemouth   \n",
              "376  E0  28/05/2023  16:30           Leeds      Tottenham   \n",
              "377  E0  28/05/2023  16:30       Leicester       West Ham   \n",
              "378  E0  28/05/2023  16:30      Man United         Fulham   \n",
              "379  E0  28/05/2023  16:30     Southampton      Liverpool   \n",
              "\n",
              "     H_Ranking_Prior_Season  A_Ranking_Prior_Season  FTHG  FTAG FTR  ...  \\\n",
              "0                        12                       5     0     2   A  ...   \n",
              "1                        18                       2     2     2   D  ...   \n",
              "2                        18                      14     2     0   H  ...   \n",
              "3                        17                      10     2     1   H  ...   \n",
              "4                        11                      18     2     0   H  ...   \n",
              "..                      ...                     ...   ...   ...  ..  ...   \n",
              "375                      16                      18     1     0   H  ...   \n",
              "376                      17                       4     1     4   A  ...   \n",
              "377                       8                       7     2     1   H  ...   \n",
              "378                       6                      18     2     1   H  ...   \n",
              "379                      15                       2     4     4   D  ...   \n",
              "\n",
              "     AvgC<2.5  AHCh B365CAHH B365CAHA  PCAHH  PCAHA  MaxCAHH  MaxCAHA  \\\n",
              "0        1.76  0.50     2.09     1.84   2.04   1.88     2.09     1.88   \n",
              "1        2.73  1.75     1.90     2.03   1.91   2.02     2.01     2.06   \n",
              "2        1.76  0.50     1.93     2.00   1.93   2.00     1.94     2.04   \n",
              "3        1.87 -0.25     2.08     1.85   2.10   1.84     2.14     1.87   \n",
              "4        1.89 -1.00     1.97     1.96   1.99   1.93     2.19     1.97   \n",
              "..        ...   ...      ...      ...    ...    ...      ...      ...   \n",
              "375      2.14 -1.00     2.02     1.77   2.10   1.81     2.17     1.92   \n",
              "376      2.50  0.25     1.84     2.06   1.83   2.10     1.90     2.14   \n",
              "377      2.51 -0.25     1.75     2.05   1.85   2.06     1.90     2.16   \n",
              "378      2.95 -1.25     1.98     1.92   1.98   1.93     2.07     1.98   \n",
              "379      3.22  1.25     1.82     2.08   1.85   2.07     1.96     2.12   \n",
              "\n",
              "     AvgCAHH  AvgCAHA  \n",
              "0       2.03     1.85  \n",
              "1       1.89     1.99  \n",
              "2       1.88     2.00  \n",
              "3       2.08     1.81  \n",
              "4       2.03     1.86  \n",
              "..       ...      ...  \n",
              "375     2.03     1.83  \n",
              "376     1.81     2.06  \n",
              "377     1.82     2.04  \n",
              "378     1.97     1.89  \n",
              "379     1.88     1.98  \n",
              "\n",
              "[380 rows x 108 columns]>"
            ]
          },
          "metadata": {},
          "execution_count": 5
        }
      ]
    },
    {
      "cell_type": "code",
      "source": [
        "df.head()"
      ],
      "metadata": {
        "colab": {
          "base_uri": "https://localhost:8080/",
          "height": 334
        },
        "id": "ktjI9AE9Q8rZ",
        "outputId": "243e24fc-0b1b-46b7-89ca-047dfc00fbd7"
      },
      "execution_count": null,
      "outputs": [
        {
          "output_type": "execute_result",
          "data": {
            "text/plain": [
              "  Div        Date   Time        HomeTeam       AwayTeam  \\\n",
              "0  E0  05/08/2022  20:00  Crystal Palace        Arsenal   \n",
              "1  E0  06/08/2022  12:30          Fulham      Liverpool   \n",
              "2  E0  06/08/2022  15:00     Bournemouth    Aston Villa   \n",
              "3  E0  06/08/2022  15:00           Leeds         Wolves   \n",
              "4  E0  06/08/2022  15:00       Newcastle  Nott'm Forest   \n",
              "\n",
              "   H_Ranking_Prior_Season  A_Ranking_Prior_Season  FTHG  FTAG FTR  ...  \\\n",
              "0                      12                       5     0     2   A  ...   \n",
              "1                      18                       2     2     2   D  ...   \n",
              "2                      18                      14     2     0   H  ...   \n",
              "3                      17                      10     2     1   H  ...   \n",
              "4                      11                      18     2     0   H  ...   \n",
              "\n",
              "   AvgC<2.5  AHCh B365CAHH B365CAHA  PCAHH  PCAHA  MaxCAHH  MaxCAHA  AvgCAHH  \\\n",
              "0      1.76  0.50     2.09     1.84   2.04   1.88     2.09     1.88     2.03   \n",
              "1      2.73  1.75     1.90     2.03   1.91   2.02     2.01     2.06     1.89   \n",
              "2      1.76  0.50     1.93     2.00   1.93   2.00     1.94     2.04     1.88   \n",
              "3      1.87 -0.25     2.08     1.85   2.10   1.84     2.14     1.87     2.08   \n",
              "4      1.89 -1.00     1.97     1.96   1.99   1.93     2.19     1.97     2.03   \n",
              "\n",
              "   AvgCAHA  \n",
              "0     1.85  \n",
              "1     1.99  \n",
              "2     2.00  \n",
              "3     1.81  \n",
              "4     1.86  \n",
              "\n",
              "[5 rows x 108 columns]"
            ],
            "text/html": [
              "\n",
              "  <div id=\"df-78f05f65-d18a-49cf-9f70-fbb04a54a094\">\n",
              "    <div class=\"colab-df-container\">\n",
              "      <div>\n",
              "<style scoped>\n",
              "    .dataframe tbody tr th:only-of-type {\n",
              "        vertical-align: middle;\n",
              "    }\n",
              "\n",
              "    .dataframe tbody tr th {\n",
              "        vertical-align: top;\n",
              "    }\n",
              "\n",
              "    .dataframe thead th {\n",
              "        text-align: right;\n",
              "    }\n",
              "</style>\n",
              "<table border=\"1\" class=\"dataframe\">\n",
              "  <thead>\n",
              "    <tr style=\"text-align: right;\">\n",
              "      <th></th>\n",
              "      <th>Div</th>\n",
              "      <th>Date</th>\n",
              "      <th>Time</th>\n",
              "      <th>HomeTeam</th>\n",
              "      <th>AwayTeam</th>\n",
              "      <th>H_Ranking_Prior_Season</th>\n",
              "      <th>A_Ranking_Prior_Season</th>\n",
              "      <th>FTHG</th>\n",
              "      <th>FTAG</th>\n",
              "      <th>FTR</th>\n",
              "      <th>...</th>\n",
              "      <th>AvgC&lt;2.5</th>\n",
              "      <th>AHCh</th>\n",
              "      <th>B365CAHH</th>\n",
              "      <th>B365CAHA</th>\n",
              "      <th>PCAHH</th>\n",
              "      <th>PCAHA</th>\n",
              "      <th>MaxCAHH</th>\n",
              "      <th>MaxCAHA</th>\n",
              "      <th>AvgCAHH</th>\n",
              "      <th>AvgCAHA</th>\n",
              "    </tr>\n",
              "  </thead>\n",
              "  <tbody>\n",
              "    <tr>\n",
              "      <th>0</th>\n",
              "      <td>E0</td>\n",
              "      <td>05/08/2022</td>\n",
              "      <td>20:00</td>\n",
              "      <td>Crystal Palace</td>\n",
              "      <td>Arsenal</td>\n",
              "      <td>12</td>\n",
              "      <td>5</td>\n",
              "      <td>0</td>\n",
              "      <td>2</td>\n",
              "      <td>A</td>\n",
              "      <td>...</td>\n",
              "      <td>1.76</td>\n",
              "      <td>0.50</td>\n",
              "      <td>2.09</td>\n",
              "      <td>1.84</td>\n",
              "      <td>2.04</td>\n",
              "      <td>1.88</td>\n",
              "      <td>2.09</td>\n",
              "      <td>1.88</td>\n",
              "      <td>2.03</td>\n",
              "      <td>1.85</td>\n",
              "    </tr>\n",
              "    <tr>\n",
              "      <th>1</th>\n",
              "      <td>E0</td>\n",
              "      <td>06/08/2022</td>\n",
              "      <td>12:30</td>\n",
              "      <td>Fulham</td>\n",
              "      <td>Liverpool</td>\n",
              "      <td>18</td>\n",
              "      <td>2</td>\n",
              "      <td>2</td>\n",
              "      <td>2</td>\n",
              "      <td>D</td>\n",
              "      <td>...</td>\n",
              "      <td>2.73</td>\n",
              "      <td>1.75</td>\n",
              "      <td>1.90</td>\n",
              "      <td>2.03</td>\n",
              "      <td>1.91</td>\n",
              "      <td>2.02</td>\n",
              "      <td>2.01</td>\n",
              "      <td>2.06</td>\n",
              "      <td>1.89</td>\n",
              "      <td>1.99</td>\n",
              "    </tr>\n",
              "    <tr>\n",
              "      <th>2</th>\n",
              "      <td>E0</td>\n",
              "      <td>06/08/2022</td>\n",
              "      <td>15:00</td>\n",
              "      <td>Bournemouth</td>\n",
              "      <td>Aston Villa</td>\n",
              "      <td>18</td>\n",
              "      <td>14</td>\n",
              "      <td>2</td>\n",
              "      <td>0</td>\n",
              "      <td>H</td>\n",
              "      <td>...</td>\n",
              "      <td>1.76</td>\n",
              "      <td>0.50</td>\n",
              "      <td>1.93</td>\n",
              "      <td>2.00</td>\n",
              "      <td>1.93</td>\n",
              "      <td>2.00</td>\n",
              "      <td>1.94</td>\n",
              "      <td>2.04</td>\n",
              "      <td>1.88</td>\n",
              "      <td>2.00</td>\n",
              "    </tr>\n",
              "    <tr>\n",
              "      <th>3</th>\n",
              "      <td>E0</td>\n",
              "      <td>06/08/2022</td>\n",
              "      <td>15:00</td>\n",
              "      <td>Leeds</td>\n",
              "      <td>Wolves</td>\n",
              "      <td>17</td>\n",
              "      <td>10</td>\n",
              "      <td>2</td>\n",
              "      <td>1</td>\n",
              "      <td>H</td>\n",
              "      <td>...</td>\n",
              "      <td>1.87</td>\n",
              "      <td>-0.25</td>\n",
              "      <td>2.08</td>\n",
              "      <td>1.85</td>\n",
              "      <td>2.10</td>\n",
              "      <td>1.84</td>\n",
              "      <td>2.14</td>\n",
              "      <td>1.87</td>\n",
              "      <td>2.08</td>\n",
              "      <td>1.81</td>\n",
              "    </tr>\n",
              "    <tr>\n",
              "      <th>4</th>\n",
              "      <td>E0</td>\n",
              "      <td>06/08/2022</td>\n",
              "      <td>15:00</td>\n",
              "      <td>Newcastle</td>\n",
              "      <td>Nott'm Forest</td>\n",
              "      <td>11</td>\n",
              "      <td>18</td>\n",
              "      <td>2</td>\n",
              "      <td>0</td>\n",
              "      <td>H</td>\n",
              "      <td>...</td>\n",
              "      <td>1.89</td>\n",
              "      <td>-1.00</td>\n",
              "      <td>1.97</td>\n",
              "      <td>1.96</td>\n",
              "      <td>1.99</td>\n",
              "      <td>1.93</td>\n",
              "      <td>2.19</td>\n",
              "      <td>1.97</td>\n",
              "      <td>2.03</td>\n",
              "      <td>1.86</td>\n",
              "    </tr>\n",
              "  </tbody>\n",
              "</table>\n",
              "<p>5 rows × 108 columns</p>\n",
              "</div>\n",
              "      <button class=\"colab-df-convert\" onclick=\"convertToInteractive('df-78f05f65-d18a-49cf-9f70-fbb04a54a094')\"\n",
              "              title=\"Convert this dataframe to an interactive table.\"\n",
              "              style=\"display:none;\">\n",
              "        \n",
              "  <svg xmlns=\"http://www.w3.org/2000/svg\" height=\"24px\"viewBox=\"0 0 24 24\"\n",
              "       width=\"24px\">\n",
              "    <path d=\"M0 0h24v24H0V0z\" fill=\"none\"/>\n",
              "    <path d=\"M18.56 5.44l.94 2.06.94-2.06 2.06-.94-2.06-.94-.94-2.06-.94 2.06-2.06.94zm-11 1L8.5 8.5l.94-2.06 2.06-.94-2.06-.94L8.5 2.5l-.94 2.06-2.06.94zm10 10l.94 2.06.94-2.06 2.06-.94-2.06-.94-.94-2.06-.94 2.06-2.06.94z\"/><path d=\"M17.41 7.96l-1.37-1.37c-.4-.4-.92-.59-1.43-.59-.52 0-1.04.2-1.43.59L10.3 9.45l-7.72 7.72c-.78.78-.78 2.05 0 2.83L4 21.41c.39.39.9.59 1.41.59.51 0 1.02-.2 1.41-.59l7.78-7.78 2.81-2.81c.8-.78.8-2.07 0-2.86zM5.41 20L4 18.59l7.72-7.72 1.47 1.35L5.41 20z\"/>\n",
              "  </svg>\n",
              "      </button>\n",
              "      \n",
              "  <style>\n",
              "    .colab-df-container {\n",
              "      display:flex;\n",
              "      flex-wrap:wrap;\n",
              "      gap: 12px;\n",
              "    }\n",
              "\n",
              "    .colab-df-convert {\n",
              "      background-color: #E8F0FE;\n",
              "      border: none;\n",
              "      border-radius: 50%;\n",
              "      cursor: pointer;\n",
              "      display: none;\n",
              "      fill: #1967D2;\n",
              "      height: 32px;\n",
              "      padding: 0 0 0 0;\n",
              "      width: 32px;\n",
              "    }\n",
              "\n",
              "    .colab-df-convert:hover {\n",
              "      background-color: #E2EBFA;\n",
              "      box-shadow: 0px 1px 2px rgba(60, 64, 67, 0.3), 0px 1px 3px 1px rgba(60, 64, 67, 0.15);\n",
              "      fill: #174EA6;\n",
              "    }\n",
              "\n",
              "    [theme=dark] .colab-df-convert {\n",
              "      background-color: #3B4455;\n",
              "      fill: #D2E3FC;\n",
              "    }\n",
              "\n",
              "    [theme=dark] .colab-df-convert:hover {\n",
              "      background-color: #434B5C;\n",
              "      box-shadow: 0px 1px 3px 1px rgba(0, 0, 0, 0.15);\n",
              "      filter: drop-shadow(0px 1px 2px rgba(0, 0, 0, 0.3));\n",
              "      fill: #FFFFFF;\n",
              "    }\n",
              "  </style>\n",
              "\n",
              "      <script>\n",
              "        const buttonEl =\n",
              "          document.querySelector('#df-78f05f65-d18a-49cf-9f70-fbb04a54a094 button.colab-df-convert');\n",
              "        buttonEl.style.display =\n",
              "          google.colab.kernel.accessAllowed ? 'block' : 'none';\n",
              "\n",
              "        async function convertToInteractive(key) {\n",
              "          const element = document.querySelector('#df-78f05f65-d18a-49cf-9f70-fbb04a54a094');\n",
              "          const dataTable =\n",
              "            await google.colab.kernel.invokeFunction('convertToInteractive',\n",
              "                                                     [key], {});\n",
              "          if (!dataTable) return;\n",
              "\n",
              "          const docLinkHtml = 'Like what you see? Visit the ' +\n",
              "            '<a target=\"_blank\" href=https://colab.research.google.com/notebooks/data_table.ipynb>data table notebook</a>'\n",
              "            + ' to learn more about interactive tables.';\n",
              "          element.innerHTML = '';\n",
              "          dataTable['output_type'] = 'display_data';\n",
              "          await google.colab.output.renderOutput(dataTable, element);\n",
              "          const docLink = document.createElement('div');\n",
              "          docLink.innerHTML = docLinkHtml;\n",
              "          element.appendChild(docLink);\n",
              "        }\n",
              "      </script>\n",
              "    </div>\n",
              "  </div>\n",
              "  "
            ]
          },
          "metadata": {},
          "execution_count": 6
        }
      ]
    },
    {
      "cell_type": "code",
      "source": [
        "df.isnull().sum()"
      ],
      "metadata": {
        "colab": {
          "base_uri": "https://localhost:8080/"
        },
        "id": "u8n8E16Zl16w",
        "outputId": "2220cade-c425-46dd-ac7d-1310340d0e19"
      },
      "execution_count": null,
      "outputs": [
        {
          "output_type": "execute_result",
          "data": {
            "text/plain": [
              "Div         0\n",
              "Date        0\n",
              "Time        0\n",
              "HomeTeam    0\n",
              "AwayTeam    0\n",
              "           ..\n",
              "PCAHA       0\n",
              "MaxCAHH     0\n",
              "MaxCAHA     0\n",
              "AvgCAHH     0\n",
              "AvgCAHA     0\n",
              "Length: 108, dtype: int64"
            ]
          },
          "metadata": {},
          "execution_count": 7
        }
      ]
    },
    {
      "cell_type": "code",
      "source": [
        "df.columns"
      ],
      "metadata": {
        "id": "7Ro6aIIpnDTR",
        "outputId": "88941675-d179-44a0-a4ee-c227c020f9d4",
        "colab": {
          "base_uri": "https://localhost:8080/"
        }
      },
      "execution_count": null,
      "outputs": [
        {
          "output_type": "execute_result",
          "data": {
            "text/plain": [
              "Index(['Div', 'Date', 'Time', 'HomeTeam', 'AwayTeam', 'H_Ranking_Prior_Season',\n",
              "       'A_Ranking_Prior_Season', 'FTHG', 'FTAG', 'FTR',\n",
              "       ...\n",
              "       'AvgC<2.5', 'AHCh', 'B365CAHH', 'B365CAHA', 'PCAHH', 'PCAHA', 'MaxCAHH',\n",
              "       'MaxCAHA', 'AvgCAHH', 'AvgCAHA'],\n",
              "      dtype='object', length=108)"
            ]
          },
          "metadata": {},
          "execution_count": 8
        }
      ]
    },
    {
      "cell_type": "markdown",
      "source": [
        "## EDA (Exploratory Data Analysis)\n",
        "\n"
      ],
      "metadata": {
        "id": "g0gHHNY_RKrI"
      }
    },
    {
      "cell_type": "code",
      "source": [
        "# Keep only columns that can inform matches before game or during half time\n",
        "df = df[['Date','Time','HomeTeam','AwayTeam','H_Ranking_Prior_Season','A_Ranking_Prior_Season','FTHG','FTAG','FTR','HTHG','HTAG','HTR','Referee','B365H','B365D','B365A']]"
      ],
      "metadata": {
        "id": "uM4ogf58RITm"
      },
      "execution_count": null,
      "outputs": []
    },
    {
      "cell_type": "code",
      "source": [
        "df.head()"
      ],
      "metadata": {
        "colab": {
          "base_uri": "https://localhost:8080/",
          "height": 322
        },
        "id": "rA84BuipSlDg",
        "outputId": "3dcebc58-0583-4031-966c-bcadb4a92ad8"
      },
      "execution_count": null,
      "outputs": [
        {
          "output_type": "execute_result",
          "data": {
            "text/plain": [
              "         Date   Time        HomeTeam       AwayTeam  H_Ranking_Prior_Season  \\\n",
              "0  05/08/2022  20:00  Crystal Palace        Arsenal                      12   \n",
              "1  06/08/2022  12:30          Fulham      Liverpool                      18   \n",
              "2  06/08/2022  15:00     Bournemouth    Aston Villa                      18   \n",
              "3  06/08/2022  15:00           Leeds         Wolves                      17   \n",
              "4  06/08/2022  15:00       Newcastle  Nott'm Forest                      11   \n",
              "\n",
              "   A_Ranking_Prior_Season  FTHG  FTAG FTR  HTHG  HTAG HTR   Referee  B365H  \\\n",
              "0                       5     0     2   A     0     1   A  A Taylor   4.20   \n",
              "1                       2     2     2   D     1     0   H  A Madley  11.00   \n",
              "2                      14     2     0   H     1     0   H  P Bankes   3.75   \n",
              "3                      10     2     1   H     1     1   D   R Jones   2.25   \n",
              "4                      18     2     0   H     0     0   D  S Hooper   1.66   \n",
              "\n",
              "   B365D  B365A  \n",
              "0    3.6   1.85  \n",
              "1    6.0   1.25  \n",
              "2    3.5   2.00  \n",
              "3    3.4   3.20  \n",
              "4    3.8   5.25  "
            ],
            "text/html": [
              "\n",
              "  <div id=\"df-c2e50e39-958e-403b-8101-c240ada77f2a\">\n",
              "    <div class=\"colab-df-container\">\n",
              "      <div>\n",
              "<style scoped>\n",
              "    .dataframe tbody tr th:only-of-type {\n",
              "        vertical-align: middle;\n",
              "    }\n",
              "\n",
              "    .dataframe tbody tr th {\n",
              "        vertical-align: top;\n",
              "    }\n",
              "\n",
              "    .dataframe thead th {\n",
              "        text-align: right;\n",
              "    }\n",
              "</style>\n",
              "<table border=\"1\" class=\"dataframe\">\n",
              "  <thead>\n",
              "    <tr style=\"text-align: right;\">\n",
              "      <th></th>\n",
              "      <th>Date</th>\n",
              "      <th>Time</th>\n",
              "      <th>HomeTeam</th>\n",
              "      <th>AwayTeam</th>\n",
              "      <th>H_Ranking_Prior_Season</th>\n",
              "      <th>A_Ranking_Prior_Season</th>\n",
              "      <th>FTHG</th>\n",
              "      <th>FTAG</th>\n",
              "      <th>FTR</th>\n",
              "      <th>HTHG</th>\n",
              "      <th>HTAG</th>\n",
              "      <th>HTR</th>\n",
              "      <th>Referee</th>\n",
              "      <th>B365H</th>\n",
              "      <th>B365D</th>\n",
              "      <th>B365A</th>\n",
              "    </tr>\n",
              "  </thead>\n",
              "  <tbody>\n",
              "    <tr>\n",
              "      <th>0</th>\n",
              "      <td>05/08/2022</td>\n",
              "      <td>20:00</td>\n",
              "      <td>Crystal Palace</td>\n",
              "      <td>Arsenal</td>\n",
              "      <td>12</td>\n",
              "      <td>5</td>\n",
              "      <td>0</td>\n",
              "      <td>2</td>\n",
              "      <td>A</td>\n",
              "      <td>0</td>\n",
              "      <td>1</td>\n",
              "      <td>A</td>\n",
              "      <td>A Taylor</td>\n",
              "      <td>4.20</td>\n",
              "      <td>3.6</td>\n",
              "      <td>1.85</td>\n",
              "    </tr>\n",
              "    <tr>\n",
              "      <th>1</th>\n",
              "      <td>06/08/2022</td>\n",
              "      <td>12:30</td>\n",
              "      <td>Fulham</td>\n",
              "      <td>Liverpool</td>\n",
              "      <td>18</td>\n",
              "      <td>2</td>\n",
              "      <td>2</td>\n",
              "      <td>2</td>\n",
              "      <td>D</td>\n",
              "      <td>1</td>\n",
              "      <td>0</td>\n",
              "      <td>H</td>\n",
              "      <td>A Madley</td>\n",
              "      <td>11.00</td>\n",
              "      <td>6.0</td>\n",
              "      <td>1.25</td>\n",
              "    </tr>\n",
              "    <tr>\n",
              "      <th>2</th>\n",
              "      <td>06/08/2022</td>\n",
              "      <td>15:00</td>\n",
              "      <td>Bournemouth</td>\n",
              "      <td>Aston Villa</td>\n",
              "      <td>18</td>\n",
              "      <td>14</td>\n",
              "      <td>2</td>\n",
              "      <td>0</td>\n",
              "      <td>H</td>\n",
              "      <td>1</td>\n",
              "      <td>0</td>\n",
              "      <td>H</td>\n",
              "      <td>P Bankes</td>\n",
              "      <td>3.75</td>\n",
              "      <td>3.5</td>\n",
              "      <td>2.00</td>\n",
              "    </tr>\n",
              "    <tr>\n",
              "      <th>3</th>\n",
              "      <td>06/08/2022</td>\n",
              "      <td>15:00</td>\n",
              "      <td>Leeds</td>\n",
              "      <td>Wolves</td>\n",
              "      <td>17</td>\n",
              "      <td>10</td>\n",
              "      <td>2</td>\n",
              "      <td>1</td>\n",
              "      <td>H</td>\n",
              "      <td>1</td>\n",
              "      <td>1</td>\n",
              "      <td>D</td>\n",
              "      <td>R Jones</td>\n",
              "      <td>2.25</td>\n",
              "      <td>3.4</td>\n",
              "      <td>3.20</td>\n",
              "    </tr>\n",
              "    <tr>\n",
              "      <th>4</th>\n",
              "      <td>06/08/2022</td>\n",
              "      <td>15:00</td>\n",
              "      <td>Newcastle</td>\n",
              "      <td>Nott'm Forest</td>\n",
              "      <td>11</td>\n",
              "      <td>18</td>\n",
              "      <td>2</td>\n",
              "      <td>0</td>\n",
              "      <td>H</td>\n",
              "      <td>0</td>\n",
              "      <td>0</td>\n",
              "      <td>D</td>\n",
              "      <td>S Hooper</td>\n",
              "      <td>1.66</td>\n",
              "      <td>3.8</td>\n",
              "      <td>5.25</td>\n",
              "    </tr>\n",
              "  </tbody>\n",
              "</table>\n",
              "</div>\n",
              "      <button class=\"colab-df-convert\" onclick=\"convertToInteractive('df-c2e50e39-958e-403b-8101-c240ada77f2a')\"\n",
              "              title=\"Convert this dataframe to an interactive table.\"\n",
              "              style=\"display:none;\">\n",
              "        \n",
              "  <svg xmlns=\"http://www.w3.org/2000/svg\" height=\"24px\"viewBox=\"0 0 24 24\"\n",
              "       width=\"24px\">\n",
              "    <path d=\"M0 0h24v24H0V0z\" fill=\"none\"/>\n",
              "    <path d=\"M18.56 5.44l.94 2.06.94-2.06 2.06-.94-2.06-.94-.94-2.06-.94 2.06-2.06.94zm-11 1L8.5 8.5l.94-2.06 2.06-.94-2.06-.94L8.5 2.5l-.94 2.06-2.06.94zm10 10l.94 2.06.94-2.06 2.06-.94-2.06-.94-.94-2.06-.94 2.06-2.06.94z\"/><path d=\"M17.41 7.96l-1.37-1.37c-.4-.4-.92-.59-1.43-.59-.52 0-1.04.2-1.43.59L10.3 9.45l-7.72 7.72c-.78.78-.78 2.05 0 2.83L4 21.41c.39.39.9.59 1.41.59.51 0 1.02-.2 1.41-.59l7.78-7.78 2.81-2.81c.8-.78.8-2.07 0-2.86zM5.41 20L4 18.59l7.72-7.72 1.47 1.35L5.41 20z\"/>\n",
              "  </svg>\n",
              "      </button>\n",
              "      \n",
              "  <style>\n",
              "    .colab-df-container {\n",
              "      display:flex;\n",
              "      flex-wrap:wrap;\n",
              "      gap: 12px;\n",
              "    }\n",
              "\n",
              "    .colab-df-convert {\n",
              "      background-color: #E8F0FE;\n",
              "      border: none;\n",
              "      border-radius: 50%;\n",
              "      cursor: pointer;\n",
              "      display: none;\n",
              "      fill: #1967D2;\n",
              "      height: 32px;\n",
              "      padding: 0 0 0 0;\n",
              "      width: 32px;\n",
              "    }\n",
              "\n",
              "    .colab-df-convert:hover {\n",
              "      background-color: #E2EBFA;\n",
              "      box-shadow: 0px 1px 2px rgba(60, 64, 67, 0.3), 0px 1px 3px 1px rgba(60, 64, 67, 0.15);\n",
              "      fill: #174EA6;\n",
              "    }\n",
              "\n",
              "    [theme=dark] .colab-df-convert {\n",
              "      background-color: #3B4455;\n",
              "      fill: #D2E3FC;\n",
              "    }\n",
              "\n",
              "    [theme=dark] .colab-df-convert:hover {\n",
              "      background-color: #434B5C;\n",
              "      box-shadow: 0px 1px 3px 1px rgba(0, 0, 0, 0.15);\n",
              "      filter: drop-shadow(0px 1px 2px rgba(0, 0, 0, 0.3));\n",
              "      fill: #FFFFFF;\n",
              "    }\n",
              "  </style>\n",
              "\n",
              "      <script>\n",
              "        const buttonEl =\n",
              "          document.querySelector('#df-c2e50e39-958e-403b-8101-c240ada77f2a button.colab-df-convert');\n",
              "        buttonEl.style.display =\n",
              "          google.colab.kernel.accessAllowed ? 'block' : 'none';\n",
              "\n",
              "        async function convertToInteractive(key) {\n",
              "          const element = document.querySelector('#df-c2e50e39-958e-403b-8101-c240ada77f2a');\n",
              "          const dataTable =\n",
              "            await google.colab.kernel.invokeFunction('convertToInteractive',\n",
              "                                                     [key], {});\n",
              "          if (!dataTable) return;\n",
              "\n",
              "          const docLinkHtml = 'Like what you see? Visit the ' +\n",
              "            '<a target=\"_blank\" href=https://colab.research.google.com/notebooks/data_table.ipynb>data table notebook</a>'\n",
              "            + ' to learn more about interactive tables.';\n",
              "          element.innerHTML = '';\n",
              "          dataTable['output_type'] = 'display_data';\n",
              "          await google.colab.output.renderOutput(dataTable, element);\n",
              "          const docLink = document.createElement('div');\n",
              "          docLink.innerHTML = docLinkHtml;\n",
              "          element.appendChild(docLink);\n",
              "        }\n",
              "      </script>\n",
              "    </div>\n",
              "  </div>\n",
              "  "
            ]
          },
          "metadata": {},
          "execution_count": 27
        }
      ]
    },
    {
      "cell_type": "code",
      "source": [
        "# Shape of data\n",
        "print('Shape of data: ', df.shape)\n",
        "print('\\n')\n",
        "# Is there a home team advantage?\n",
        "print('Full time results:')\n",
        "print(df['FTR'].value_counts() / df.shape[0])\n",
        "\n",
        "print('\\n')\n",
        "# Is there a home team advantage at half time?\n",
        "print('Half time results:')\n",
        "print(df['HTR'].value_counts() / df.shape[0])"
      ],
      "metadata": {
        "colab": {
          "base_uri": "https://localhost:8080/"
        },
        "id": "Q-YceGiRTI_N",
        "outputId": "5f0ba02b-a607-4cae-8249-33b4f60ea371"
      },
      "execution_count": null,
      "outputs": [
        {
          "output_type": "stream",
          "name": "stdout",
          "text": [
            "Shape of data:  (380, 16)\n",
            "\n",
            "\n",
            "Full time results:\n",
            "H    0.484211\n",
            "A    0.286842\n",
            "D    0.228947\n",
            "Name: FTR, dtype: float64\n",
            "\n",
            "\n",
            "Half time results:\n",
            "D    0.384211\n",
            "H    0.363158\n",
            "A    0.252632\n",
            "Name: HTR, dtype: float64\n"
          ]
        }
      ]
    },
    {
      "cell_type": "code",
      "source": [
        "#confusion matrix of team results based on half-time\n",
        "print('Confusion matrix, half-time to full-time')\n",
        "print(pd.crosstab(df['HTR'], df['FTR'], rownames=['Half-Time'], colnames=['Full-Time']))"
      ],
      "metadata": {
        "colab": {
          "base_uri": "https://localhost:8080/"
        },
        "id": "SvfpNo3QUabz",
        "outputId": "301aadd7-030f-4a3c-80b8-95aebaf71199"
      },
      "execution_count": null,
      "outputs": [
        {
          "output_type": "stream",
          "name": "stdout",
          "text": [
            "Confusion matrix, half-time to full-time\n",
            "Full-Time   A   D    H\n",
            "Half-Time             \n",
            "A          62  22   12\n",
            "D          39  51   56\n",
            "H           8  14  116\n"
          ]
        }
      ]
    },
    {
      "cell_type": "markdown",
      "source": [
        "This shows us that half-time results are fairly predictive of full-time end results, except in the case of draws at the half, for which the final results are pretty evenly split."
      ],
      "metadata": {
        "id": "uAfaDNj-V0Ze"
      }
    },
    {
      "cell_type": "code",
      "source": [
        "# Histogram of full-time home team goals\n",
        "df['FTHG'].hist(bins=10, figsize=(15,10))\n",
        "plt.show()"
      ],
      "metadata": {
        "colab": {
          "base_uri": "https://localhost:8080/",
          "height": 696
        },
        "id": "iz6p5oO3V_sD",
        "outputId": "0912a590-adb3-4a58-b9d8-992fd3c82177"
      },
      "execution_count": null,
      "outputs": [
        {
          "output_type": "display_data",
          "data": {
            "text/plain": [
              "<Figure size 1500x1000 with 1 Axes>"
            ],
            "image/png": "[encoded data removed]"
          },
          "metadata": {}
        }
      ]
    },
    {
      "cell_type": "code",
      "source": [
        "## Variable creation (point difference at half: Home Goals - Away Goals)\n",
        "df['half_time_GD'] = df['HTHG'] - df['HTAG']\n",
        "\n",
        "## Explore how predictive the goal difference is of final outcomes\n",
        "df['half_time_GD'].hist()"
      ],
      "metadata": {
        "colab": {
          "base_uri": "https://localhost:8080/",
          "height": 448
        },
        "id": "2qHUJSYAWy6x",
        "outputId": "b15ddedd-5b2d-4f8d-ed99-3ee11cc6029f"
      },
      "execution_count": null,
      "outputs": [
        {
          "output_type": "execute_result",
          "data": {
            "text/plain": [
              "<Axes: >"
            ]
          },
          "metadata": {},
          "execution_count": 31
        },
        {
          "output_type": "display_data",
          "data": {
            "text/plain": [
              "<Figure size 640x480 with 1 Axes>"
            ],
            "image/png": "[encoded data removed]"
          },
          "metadata": {}
        }
      ]
    },
    {
      "cell_type": "code",
      "source": [
        "print('Confusion matrix, half-time goal difference compared to full-time match result')\n",
        "print(pd.crosstab(df['half_time_GD'], df['FTR'], rownames=['Half-Time Goal Difference (Home - Away)'], colnames=['Full-Time']))"
      ],
      "metadata": {
        "colab": {
          "base_uri": "https://localhost:8080/"
        },
        "id": "vZiVPTg3X08m",
        "outputId": "86f6a2c1-3d97-4e23-9237-197d82bb1671"
      },
      "execution_count": null,
      "outputs": [
        {
          "output_type": "stream",
          "name": "stdout",
          "text": [
            "Confusion matrix, half-time goal difference compared to full-time match result\n",
            "Full-Time                                 A   D   H\n",
            "Half-Time Goal Difference (Home - Away)            \n",
            "-3                                        6   0   0\n",
            "-2                                       17   1   2\n",
            "-1                                       39  21  10\n",
            " 0                                       39  51  56\n",
            " 1                                        7  14  75\n",
            " 2                                        1   0  26\n",
            " 3                                        0   0  10\n",
            " 4                                        0   0   3\n",
            " 5                                        0   0   2\n"
          ]
        }
      ]
    },
    {
      "cell_type": "code",
      "source": [
        "df.head()"
      ],
      "metadata": {
        "colab": {
          "base_uri": "https://localhost:8080/",
          "height": 322
        },
        "id": "TDbyp23sSuWF",
        "outputId": "848d3790-bd80-4f85-a3f6-3bb40d7dbd0b"
      },
      "execution_count": null,
      "outputs": [
        {
          "output_type": "execute_result",
          "data": {
            "text/plain": [
              "         Date   Time        HomeTeam       AwayTeam  H_Ranking_Prior_Season  \\\n",
              "0  05/08/2022  20:00  Crystal Palace        Arsenal                      12   \n",
              "1  06/08/2022  12:30          Fulham      Liverpool                      18   \n",
              "2  06/08/2022  15:00     Bournemouth    Aston Villa                      18   \n",
              "3  06/08/2022  15:00           Leeds         Wolves                      17   \n",
              "4  06/08/2022  15:00       Newcastle  Nott'm Forest                      11   \n",
              "\n",
              "   A_Ranking_Prior_Season  FTHG  FTAG FTR  HTHG  HTAG HTR   Referee  B365H  \\\n",
              "0                       5     0     2   A     0     1   A  A Taylor   4.20   \n",
              "1                       2     2     2   D     1     0   H  A Madley  11.00   \n",
              "2                      14     2     0   H     1     0   H  P Bankes   3.75   \n",
              "3                      10     2     1   H     1     1   D   R Jones   2.25   \n",
              "4                      18     2     0   H     0     0   D  S Hooper   1.66   \n",
              "\n",
              "   B365D  B365A  half_time_GD  \n",
              "0    3.6   1.85            -1  \n",
              "1    6.0   1.25             1  \n",
              "2    3.5   2.00             1  \n",
              "3    3.4   3.20             0  \n",
              "4    3.8   5.25             0  "
            ],
            "text/html": [
              "\n",
              "  <div id=\"df-c8101314-174a-4acc-8dde-2e597decb7af\">\n",
              "    <div class=\"colab-df-container\">\n",
              "      <div>\n",
              "<style scoped>\n",
              "    .dataframe tbody tr th:only-of-type {\n",
              "        vertical-align: middle;\n",
              "    }\n",
              "\n",
              "    .dataframe tbody tr th {\n",
              "        vertical-align: top;\n",
              "    }\n",
              "\n",
              "    .dataframe thead th {\n",
              "        text-align: right;\n",
              "    }\n",
              "</style>\n",
              "<table border=\"1\" class=\"dataframe\">\n",
              "  <thead>\n",
              "    <tr style=\"text-align: right;\">\n",
              "      <th></th>\n",
              "      <th>Date</th>\n",
              "      <th>Time</th>\n",
              "      <th>HomeTeam</th>\n",
              "      <th>AwayTeam</th>\n",
              "      <th>H_Ranking_Prior_Season</th>\n",
              "      <th>A_Ranking_Prior_Season</th>\n",
              "      <th>FTHG</th>\n",
              "      <th>FTAG</th>\n",
              "      <th>FTR</th>\n",
              "      <th>HTHG</th>\n",
              "      <th>HTAG</th>\n",
              "      <th>HTR</th>\n",
              "      <th>Referee</th>\n",
              "      <th>B365H</th>\n",
              "      <th>B365D</th>\n",
              "      <th>B365A</th>\n",
              "      <th>half_time_GD</th>\n",
              "    </tr>\n",
              "  </thead>\n",
              "  <tbody>\n",
              "    <tr>\n",
              "      <th>0</th>\n",
              "      <td>05/08/2022</td>\n",
              "      <td>20:00</td>\n",
              "      <td>Crystal Palace</td>\n",
              "      <td>Arsenal</td>\n",
              "      <td>12</td>\n",
              "      <td>5</td>\n",
              "      <td>0</td>\n",
              "      <td>2</td>\n",
              "      <td>A</td>\n",
              "      <td>0</td>\n",
              "      <td>1</td>\n",
              "      <td>A</td>\n",
              "      <td>A Taylor</td>\n",
              "      <td>4.20</td>\n",
              "      <td>3.6</td>\n",
              "      <td>1.85</td>\n",
              "      <td>-1</td>\n",
              "    </tr>\n",
              "    <tr>\n",
              "      <th>1</th>\n",
              "      <td>06/08/2022</td>\n",
              "      <td>12:30</td>\n",
              "      <td>Fulham</td>\n",
              "      <td>Liverpool</td>\n",
              "      <td>18</td>\n",
              "      <td>2</td>\n",
              "      <td>2</td>\n",
              "      <td>2</td>\n",
              "      <td>D</td>\n",
              "      <td>1</td>\n",
              "      <td>0</td>\n",
              "      <td>H</td>\n",
              "      <td>A Madley</td>\n",
              "      <td>11.00</td>\n",
              "      <td>6.0</td>\n",
              "      <td>1.25</td>\n",
              "      <td>1</td>\n",
              "    </tr>\n",
              "    <tr>\n",
              "      <th>2</th>\n",
              "      <td>06/08/2022</td>\n",
              "      <td>15:00</td>\n",
              "      <td>Bournemouth</td>\n",
              "      <td>Aston Villa</td>\n",
              "      <td>18</td>\n",
              "      <td>14</td>\n",
              "      <td>2</td>\n",
              "      <td>0</td>\n",
              "      <td>H</td>\n",
              "      <td>1</td>\n",
              "      <td>0</td>\n",
              "      <td>H</td>\n",
              "      <td>P Bankes</td>\n",
              "      <td>3.75</td>\n",
              "      <td>3.5</td>\n",
              "      <td>2.00</td>\n",
              "      <td>1</td>\n",
              "    </tr>\n",
              "    <tr>\n",
              "      <th>3</th>\n",
              "      <td>06/08/2022</td>\n",
              "      <td>15:00</td>\n",
              "      <td>Leeds</td>\n",
              "      <td>Wolves</td>\n",
              "      <td>17</td>\n",
              "      <td>10</td>\n",
              "      <td>2</td>\n",
              "      <td>1</td>\n",
              "      <td>H</td>\n",
              "      <td>1</td>\n",
              "      <td>1</td>\n",
              "      <td>D</td>\n",
              "      <td>R Jones</td>\n",
              "      <td>2.25</td>\n",
              "      <td>3.4</td>\n",
              "      <td>3.20</td>\n",
              "      <td>0</td>\n",
              "    </tr>\n",
              "    <tr>\n",
              "      <th>4</th>\n",
              "      <td>06/08/2022</td>\n",
              "      <td>15:00</td>\n",
              "      <td>Newcastle</td>\n",
              "      <td>Nott'm Forest</td>\n",
              "      <td>11</td>\n",
              "      <td>18</td>\n",
              "      <td>2</td>\n",
              "      <td>0</td>\n",
              "      <td>H</td>\n",
              "      <td>0</td>\n",
              "      <td>0</td>\n",
              "      <td>D</td>\n",
              "      <td>S Hooper</td>\n",
              "      <td>1.66</td>\n",
              "      <td>3.8</td>\n",
              "      <td>5.25</td>\n",
              "      <td>0</td>\n",
              "    </tr>\n",
              "  </tbody>\n",
              "</table>\n",
              "</div>\n",
              "      <button class=\"colab-df-convert\" onclick=\"convertToInteractive('df-c8101314-174a-4acc-8dde-2e597decb7af')\"\n",
              "              title=\"Convert this dataframe to an interactive table.\"\n",
              "              style=\"display:none;\">\n",
              "        \n",
              "  <svg xmlns=\"http://www.w3.org/2000/svg\" height=\"24px\"viewBox=\"0 0 24 24\"\n",
              "       width=\"24px\">\n",
              "    <path d=\"M0 0h24v24H0V0z\" fill=\"none\"/>\n",
              "    <path d=\"M18.56 5.44l.94 2.06.94-2.06 2.06-.94-2.06-.94-.94-2.06-.94 2.06-2.06.94zm-11 1L8.5 8.5l.94-2.06 2.06-.94-2.06-.94L8.5 2.5l-.94 2.06-2.06.94zm10 10l.94 2.06.94-2.06 2.06-.94-2.06-.94-.94-2.06-.94 2.06-2.06.94z\"/><path d=\"M17.41 7.96l-1.37-1.37c-.4-.4-.92-.59-1.43-.59-.52 0-1.04.2-1.43.59L10.3 9.45l-7.72 7.72c-.78.78-.78 2.05 0 2.83L4 21.41c.39.39.9.59 1.41.59.51 0 1.02-.2 1.41-.59l7.78-7.78 2.81-2.81c.8-.78.8-2.07 0-2.86zM5.41 20L4 18.59l7.72-7.72 1.47 1.35L5.41 20z\"/>\n",
              "  </svg>\n",
              "      </button>\n",
              "      \n",
              "  <style>\n",
              "    .colab-df-container {\n",
              "      display:flex;\n",
              "      flex-wrap:wrap;\n",
              "      gap: 12px;\n",
              "    }\n",
              "\n",
              "    .colab-df-convert {\n",
              "      background-color: #E8F0FE;\n",
              "      border: none;\n",
              "      border-radius: 50%;\n",
              "      cursor: pointer;\n",
              "      display: none;\n",
              "      fill: #1967D2;\n",
              "      height: 32px;\n",
              "      padding: 0 0 0 0;\n",
              "      width: 32px;\n",
              "    }\n",
              "\n",
              "    .colab-df-convert:hover {\n",
              "      background-color: #E2EBFA;\n",
              "      box-shadow: 0px 1px 2px rgba(60, 64, 67, 0.3), 0px 1px 3px 1px rgba(60, 64, 67, 0.15);\n",
              "      fill: #174EA6;\n",
              "    }\n",
              "\n",
              "    [theme=dark] .colab-df-convert {\n",
              "      background-color: #3B4455;\n",
              "      fill: #D2E3FC;\n",
              "    }\n",
              "\n",
              "    [theme=dark] .colab-df-convert:hover {\n",
              "      background-color: #434B5C;\n",
              "      box-shadow: 0px 1px 3px 1px rgba(0, 0, 0, 0.15);\n",
              "      filter: drop-shadow(0px 1px 2px rgba(0, 0, 0, 0.3));\n",
              "      fill: #FFFFFF;\n",
              "    }\n",
              "  </style>\n",
              "\n",
              "      <script>\n",
              "        const buttonEl =\n",
              "          document.querySelector('#df-c8101314-174a-4acc-8dde-2e597decb7af button.colab-df-convert');\n",
              "        buttonEl.style.display =\n",
              "          google.colab.kernel.accessAllowed ? 'block' : 'none';\n",
              "\n",
              "        async function convertToInteractive(key) {\n",
              "          const element = document.querySelector('#df-c8101314-174a-4acc-8dde-2e597decb7af');\n",
              "          const dataTable =\n",
              "            await google.colab.kernel.invokeFunction('convertToInteractive',\n",
              "                                                     [key], {});\n",
              "          if (!dataTable) return;\n",
              "\n",
              "          const docLinkHtml = 'Like what you see? Visit the ' +\n",
              "            '<a target=\"_blank\" href=https://colab.research.google.com/notebooks/data_table.ipynb>data table notebook</a>'\n",
              "            + ' to learn more about interactive tables.';\n",
              "          element.innerHTML = '';\n",
              "          dataTable['output_type'] = 'display_data';\n",
              "          await google.colab.output.renderOutput(dataTable, element);\n",
              "          const docLink = document.createElement('div');\n",
              "          docLink.innerHTML = docLinkHtml;\n",
              "          element.appendChild(docLink);\n",
              "        }\n",
              "      </script>\n",
              "    </div>\n",
              "  </div>\n",
              "  "
            ]
          },
          "metadata": {},
          "execution_count": 33
        }
      ]
    },
    {
      "cell_type": "code",
      "source": [
        "fig = plt.figure()\n",
        "ax = fig.add_subplot(1,1,1)\n",
        "ax.scatter(x = df['B365H'], y = df['FTHG'])\n",
        "ax.set_xlabel('Betting odds for home team')\n",
        "ax.set_ylabel('Home team goals (full time)')"
      ],
      "metadata": {
        "colab": {
          "base_uri": "https://localhost:8080/",
          "height": 467
        },
        "id": "hxl38RuXTGP5",
        "outputId": "dcb5ca9f-2ac4-4ce6-e97e-8de104a5fc7f"
      },
      "execution_count": null,
      "outputs": [
        {
          "output_type": "execute_result",
          "data": {
            "text/plain": [
              "Text(0, 0.5, 'Home team goals (full time)')"
            ]
          },
          "metadata": {},
          "execution_count": 34
        },
        {
          "output_type": "display_data",
          "data": {
            "text/plain": [
              "<Figure size 640x480 with 1 Axes>"
            ],
            "image/png": "[encoded data removed]"
          },
          "metadata": {}
        }
      ]
    },
    {
      "cell_type": "code",
      "source": [
        "## Variable creation (point difference at full time: Home Goals - Away Goals)\n",
        "df['full_time_GD'] = df['FTHG'] - df['FTAG']\n",
        "\n",
        "## Explore how predictive the goal difference is of final outcomes\n",
        "df['full_time_GD'].hist()"
      ],
      "metadata": {
        "colab": {
          "base_uri": "https://localhost:8080/",
          "height": 448
        },
        "id": "0UBjkD6bUToI",
        "outputId": "31e3bf6e-def8-4d72-a016-f30fe500175d"
      },
      "execution_count": null,
      "outputs": [
        {
          "output_type": "execute_result",
          "data": {
            "text/plain": [
              "<Axes: >"
            ]
          },
          "metadata": {},
          "execution_count": 35
        },
        {
          "output_type": "display_data",
          "data": {
            "text/plain": [
              "<Figure size 640x480 with 1 Axes>"
            ],
            "image/png": "[encoded data removed]"
          },
          "metadata": {}
        }
      ]
    },
    {
      "cell_type": "code",
      "source": [
        "fig = plt.figure()\n",
        "ax = fig.add_subplot(1,1,1)\n",
        "ax.scatter(x = df['B365H'], y = df['full_time_GD'])\n",
        "ax.set_xlabel('Betting odds for home team')\n",
        "ax.set_ylabel('Full time goal difference (home - away)')"
      ],
      "metadata": {
        "colab": {
          "base_uri": "https://localhost:8080/",
          "height": 467
        },
        "id": "qHOoeZWjU2iD",
        "outputId": "ef69ae84-c290-4055-8076-edaab0513a9e"
      },
      "execution_count": null,
      "outputs": [
        {
          "output_type": "execute_result",
          "data": {
            "text/plain": [
              "Text(0, 0.5, 'Full time goal difference (home - away)')"
            ]
          },
          "metadata": {},
          "execution_count": 36
        },
        {
          "output_type": "display_data",
          "data": {
            "text/plain": [
              "<Figure size 640x480 with 1 Axes>"
            ],
            "image/png": "[encoded data removed]"
          },
          "metadata": {}
        }
      ]
    },
    {
      "cell_type": "code",
      "source": [
        "fig = plt.figure()\n",
        "ax = fig.add_subplot(1,1,1)\n",
        "ax.scatter(x = df['A_Ranking_Prior_Season'], y = df['full_time_GD'])\n",
        "ax.set_xlabel('Prior Season Ranking')\n",
        "ax.set_ylabel('Full time goal difference (home - away)')"
      ],
      "metadata": {
        "colab": {
          "base_uri": "https://localhost:8080/",
          "height": 467
        },
        "id": "bqm91kfchRKn",
        "outputId": "d08cf070-0f20-45a8-824c-04e36ce2ec64"
      },
      "execution_count": null,
      "outputs": [
        {
          "output_type": "execute_result",
          "data": {
            "text/plain": [
              "Text(0, 0.5, 'Full time goal difference (home - away)')"
            ]
          },
          "metadata": {},
          "execution_count": 37
        },
        {
          "output_type": "display_data",
          "data": {
            "text/plain": [
              "<Figure size 640x480 with 1 Axes>"
            ],
            "image/png": "[encoded data removed]"
          },
          "metadata": {}
        }
      ]
    },
    {
      "cell_type": "markdown",
      "source": [
        "## Baseline Model"
      ],
      "metadata": {
        "id": "ZNFpdKHdWEWX"
      }
    },
    {
      "cell_type": "code",
      "source": [
        "# separate features from the target\n",
        "y = df['FTR'] # target variable (winning team)\n",
        "X = df.drop(columns = ['Date','Time','Referee','FTR','FTHG','FTAG','full_time_GD'])"
      ],
      "metadata": {
        "id": "2cDzuLevWsXv"
      },
      "execution_count": null,
      "outputs": []
    },
    {
      "cell_type": "code",
      "source": [
        "#One-Hot encode all categorical variables\n",
        "\n",
        "# Function for one-hot encoding, takes dataframe and features to encode\n",
        "# returns one-hot encoded dataframe\n",
        "# from: https://stackoverflow.com/questions/37292872/how-can-i-one-hot-encode-in-python\n",
        "def encode_and_bind(original_dataframe, feature_to_encode):\n",
        "    dummies = pd.get_dummies(original_dataframe[[feature_to_encode]])\n",
        "    res = pd.concat([original_dataframe, dummies], axis=1)\n",
        "    res = res.drop([feature_to_encode], axis=1)\n",
        "    return(res)\n",
        "# features to one-hot encode in our data\n",
        "features_to_encode = ['HomeTeam','AwayTeam']\n",
        "\n",
        "for feature in features_to_encode:\n",
        "    X = encode_and_bind(X, feature)\n",
        "\n",
        "# results of one-hot encoding\n",
        "X.head()"
      ],
      "metadata": {
        "id": "wKqMWsfRlb0J",
        "colab": {
          "base_uri": "https://localhost:8080/",
          "height": 317
        },
        "outputId": "7e2b9a71-d67b-49e0-8dd1-2f56e9de861d"
      },
      "execution_count": null,
      "outputs": [
        {
          "output_type": "execute_result",
          "data": {
            "text/plain": [
              "   H_Ranking_Prior_Season  A_Ranking_Prior_Season  HTHG  HTAG HTR  B365H  \\\n",
              "0                      12                       5     0     1   A   4.20   \n",
              "1                      18                       2     1     0   H  11.00   \n",
              "2                      18                      14     1     0   H   3.75   \n",
              "3                      17                      10     1     1   D   2.25   \n",
              "4                      11                      18     0     0   D   1.66   \n",
              "\n",
              "   B365D  B365A  half_time_GD  HomeTeam_Arsenal  ...  AwayTeam_Leicester  \\\n",
              "0    3.6   1.85            -1                 0  ...                   0   \n",
              "1    6.0   1.25             1                 0  ...                   0   \n",
              "2    3.5   2.00             1                 0  ...                   0   \n",
              "3    3.4   3.20             0                 0  ...                   0   \n",
              "4    3.8   5.25             0                 0  ...                   0   \n",
              "\n",
              "   AwayTeam_Liverpool  AwayTeam_Man City  AwayTeam_Man United  \\\n",
              "0                   0                  0                    0   \n",
              "1                   1                  0                    0   \n",
              "2                   0                  0                    0   \n",
              "3                   0                  0                    0   \n",
              "4                   0                  0                    0   \n",
              "\n",
              "   AwayTeam_Newcastle  AwayTeam_Nott'm Forest  AwayTeam_Southampton  \\\n",
              "0                   0                       0                     0   \n",
              "1                   0                       0                     0   \n",
              "2                   0                       0                     0   \n",
              "3                   0                       0                     0   \n",
              "4                   0                       1                     0   \n",
              "\n",
              "   AwayTeam_Tottenham  AwayTeam_West Ham  AwayTeam_Wolves  \n",
              "0                   0                  0                0  \n",
              "1                   0                  0                0  \n",
              "2                   0                  0                0  \n",
              "3                   0                  0                1  \n",
              "4                   0                  0                0  \n",
              "\n",
              "[5 rows x 49 columns]"
            ],
            "text/html": [
              "\n",
              "  <div id=\"df-c255e43e-97b4-40b9-a805-7af9e2d239df\">\n",
              "    <div class=\"colab-df-container\">\n",
              "      <div>\n",
              "<style scoped>\n",
              "    .dataframe tbody tr th:only-of-type {\n",
              "        vertical-align: middle;\n",
              "    }\n",
              "\n",
              "    .dataframe tbody tr th {\n",
              "        vertical-align: top;\n",
              "    }\n",
              "\n",
              "    .dataframe thead th {\n",
              "        text-align: right;\n",
              "    }\n",
              "</style>\n",
              "<table border=\"1\" class=\"dataframe\">\n",
              "  <thead>\n",
              "    <tr style=\"text-align: right;\">\n",
              "      <th></th>\n",
              "      <th>H_Ranking_Prior_Season</th>\n",
              "      <th>A_Ranking_Prior_Season</th>\n",
              "      <th>HTHG</th>\n",
              "      <th>HTAG</th>\n",
              "      <th>HTR</th>\n",
              "      <th>B365H</th>\n",
              "      <th>B365D</th>\n",
              "      <th>B365A</th>\n",
              "      <th>half_time_GD</th>\n",
              "      <th>HomeTeam_Arsenal</th>\n",
              "      <th>...</th>\n",
              "      <th>AwayTeam_Leicester</th>\n",
              "      <th>AwayTeam_Liverpool</th>\n",
              "      <th>AwayTeam_Man City</th>\n",
              "      <th>AwayTeam_Man United</th>\n",
              "      <th>AwayTeam_Newcastle</th>\n",
              "      <th>AwayTeam_Nott'm Forest</th>\n",
              "      <th>AwayTeam_Southampton</th>\n",
              "      <th>AwayTeam_Tottenham</th>\n",
              "      <th>AwayTeam_West Ham</th>\n",
              "      <th>AwayTeam_Wolves</th>\n",
              "    </tr>\n",
              "  </thead>\n",
              "  <tbody>\n",
              "    <tr>\n",
              "      <th>0</th>\n",
              "      <td>12</td>\n",
              "      <td>5</td>\n",
              "      <td>0</td>\n",
              "      <td>1</td>\n",
              "      <td>A</td>\n",
              "      <td>4.20</td>\n",
              "      <td>3.6</td>\n",
              "      <td>1.85</td>\n",
              "      <td>-1</td>\n",
              "      <td>0</td>\n",
              "      <td>...</td>\n",
              "      <td>0</td>\n",
              "      <td>0</td>\n",
              "      <td>0</td>\n",
              "      <td>0</td>\n",
              "      <td>0</td>\n",
              "      <td>0</td>\n",
              "      <td>0</td>\n",
              "      <td>0</td>\n",
              "      <td>0</td>\n",
              "      <td>0</td>\n",
              "    </tr>\n",
              "    <tr>\n",
              "      <th>1</th>\n",
              "      <td>18</td>\n",
              "      <td>2</td>\n",
              "      <td>1</td>\n",
              "      <td>0</td>\n",
              "      <td>H</td>\n",
              "      <td>11.00</td>\n",
              "      <td>6.0</td>\n",
              "      <td>1.25</td>\n",
              "      <td>1</td>\n",
              "      <td>0</td>\n",
              "      <td>...</td>\n",
              "      <td>0</td>\n",
              "      <td>1</td>\n",
              "      <td>0</td>\n",
              "      <td>0</td>\n",
              "      <td>0</td>\n",
              "      <td>0</td>\n",
              "      <td>0</td>\n",
              "      <td>0</td>\n",
              "      <td>0</td>\n",
              "      <td>0</td>\n",
              "    </tr>\n",
              "    <tr>\n",
              "      <th>2</th>\n",
              "      <td>18</td>\n",
              "      <td>14</td>\n",
              "      <td>1</td>\n",
              "      <td>0</td>\n",
              "      <td>H</td>\n",
              "      <td>3.75</td>\n",
              "      <td>3.5</td>\n",
              "      <td>2.00</td>\n",
              "      <td>1</td>\n",
              "      <td>0</td>\n",
              "      <td>...</td>\n",
              "      <td>0</td>\n",
              "      <td>0</td>\n",
              "      <td>0</td>\n",
              "      <td>0</td>\n",
              "      <td>0</td>\n",
              "      <td>0</td>\n",
              "      <td>0</td>\n",
              "      <td>0</td>\n",
              "      <td>0</td>\n",
              "      <td>0</td>\n",
              "    </tr>\n",
              "    <tr>\n",
              "      <th>3</th>\n",
              "      <td>17</td>\n",
              "      <td>10</td>\n",
              "      <td>1</td>\n",
              "      <td>1</td>\n",
              "      <td>D</td>\n",
              "      <td>2.25</td>\n",
              "      <td>3.4</td>\n",
              "      <td>3.20</td>\n",
              "      <td>0</td>\n",
              "      <td>0</td>\n",
              "      <td>...</td>\n",
              "      <td>0</td>\n",
              "      <td>0</td>\n",
              "      <td>0</td>\n",
              "      <td>0</td>\n",
              "      <td>0</td>\n",
              "      <td>0</td>\n",
              "      <td>0</td>\n",
              "      <td>0</td>\n",
              "      <td>0</td>\n",
              "      <td>1</td>\n",
              "    </tr>\n",
              "    <tr>\n",
              "      <th>4</th>\n",
              "      <td>11</td>\n",
              "      <td>18</td>\n",
              "      <td>0</td>\n",
              "      <td>0</td>\n",
              "      <td>D</td>\n",
              "      <td>1.66</td>\n",
              "      <td>3.8</td>\n",
              "      <td>5.25</td>\n",
              "      <td>0</td>\n",
              "      <td>0</td>\n",
              "      <td>...</td>\n",
              "      <td>0</td>\n",
              "      <td>0</td>\n",
              "      <td>0</td>\n",
              "      <td>0</td>\n",
              "      <td>0</td>\n",
              "      <td>1</td>\n",
              "      <td>0</td>\n",
              "      <td>0</td>\n",
              "      <td>0</td>\n",
              "      <td>0</td>\n",
              "    </tr>\n",
              "  </tbody>\n",
              "</table>\n",
              "<p>5 rows × 49 columns</p>\n",
              "</div>\n",
              "      <button class=\"colab-df-convert\" onclick=\"convertToInteractive('df-c255e43e-97b4-40b9-a805-7af9e2d239df')\"\n",
              "              title=\"Convert this dataframe to an interactive table.\"\n",
              "              style=\"display:none;\">\n",
              "        \n",
              "  <svg xmlns=\"http://www.w3.org/2000/svg\" height=\"24px\"viewBox=\"0 0 24 24\"\n",
              "       width=\"24px\">\n",
              "    <path d=\"M0 0h24v24H0V0z\" fill=\"none\"/>\n",
              "    <path d=\"M18.56 5.44l.94 2.06.94-2.06 2.06-.94-2.06-.94-.94-2.06-.94 2.06-2.06.94zm-11 1L8.5 8.5l.94-2.06 2.06-.94-2.06-.94L8.5 2.5l-.94 2.06-2.06.94zm10 10l.94 2.06.94-2.06 2.06-.94-2.06-.94-.94-2.06-.94 2.06-2.06.94z\"/><path d=\"M17.41 7.96l-1.37-1.37c-.4-.4-.92-.59-1.43-.59-.52 0-1.04.2-1.43.59L10.3 9.45l-7.72 7.72c-.78.78-.78 2.05 0 2.83L4 21.41c.39.39.9.59 1.41.59.51 0 1.02-.2 1.41-.59l7.78-7.78 2.81-2.81c.8-.78.8-2.07 0-2.86zM5.41 20L4 18.59l7.72-7.72 1.47 1.35L5.41 20z\"/>\n",
              "  </svg>\n",
              "      </button>\n",
              "      \n",
              "  <style>\n",
              "    .colab-df-container {\n",
              "      display:flex;\n",
              "      flex-wrap:wrap;\n",
              "      gap: 12px;\n",
              "    }\n",
              "\n",
              "    .colab-df-convert {\n",
              "      background-color: #E8F0FE;\n",
              "      border: none;\n",
              "      border-radius: 50%;\n",
              "      cursor: pointer;\n",
              "      display: none;\n",
              "      fill: #1967D2;\n",
              "      height: 32px;\n",
              "      padding: 0 0 0 0;\n",
              "      width: 32px;\n",
              "    }\n",
              "\n",
              "    .colab-df-convert:hover {\n",
              "      background-color: #E2EBFA;\n",
              "      box-shadow: 0px 1px 2px rgba(60, 64, 67, 0.3), 0px 1px 3px 1px rgba(60, 64, 67, 0.15);\n",
              "      fill: #174EA6;\n",
              "    }\n",
              "\n",
              "    [theme=dark] .colab-df-convert {\n",
              "      background-color: #3B4455;\n",
              "      fill: #D2E3FC;\n",
              "    }\n",
              "\n",
              "    [theme=dark] .colab-df-convert:hover {\n",
              "      background-color: #434B5C;\n",
              "      box-shadow: 0px 1px 3px 1px rgba(0, 0, 0, 0.15);\n",
              "      filter: drop-shadow(0px 1px 2px rgba(0, 0, 0, 0.3));\n",
              "      fill: #FFFFFF;\n",
              "    }\n",
              "  </style>\n",
              "\n",
              "      <script>\n",
              "        const buttonEl =\n",
              "          document.querySelector('#df-c255e43e-97b4-40b9-a805-7af9e2d239df button.colab-df-convert');\n",
              "        buttonEl.style.display =\n",
              "          google.colab.kernel.accessAllowed ? 'block' : 'none';\n",
              "\n",
              "        async function convertToInteractive(key) {\n",
              "          const element = document.querySelector('#df-c255e43e-97b4-40b9-a805-7af9e2d239df');\n",
              "          const dataTable =\n",
              "            await google.colab.kernel.invokeFunction('convertToInteractive',\n",
              "                                                     [key], {});\n",
              "          if (!dataTable) return;\n",
              "\n",
              "          const docLinkHtml = 'Like what you see? Visit the ' +\n",
              "            '<a target=\"_blank\" href=https://colab.research.google.com/notebooks/data_table.ipynb>data table notebook</a>'\n",
              "            + ' to learn more about interactive tables.';\n",
              "          element.innerHTML = '';\n",
              "          dataTable['output_type'] = 'display_data';\n",
              "          await google.colab.output.renderOutput(dataTable, element);\n",
              "          const docLink = document.createElement('div');\n",
              "          docLink.innerHTML = docLinkHtml;\n",
              "          element.appendChild(docLink);\n",
              "        }\n",
              "      </script>\n",
              "    </div>\n",
              "  </div>\n",
              "  "
            ]
          },
          "metadata": {},
          "execution_count": 39
        }
      ]
    },
    {
      "cell_type": "code",
      "source": [
        "#split into test and training datasets\n",
        "from sklearn.model_selection import train_test_split\n",
        "X_train, X_test, y_train, y_test = train_test_split(X, y, test_size=0.3, random_state=0)"
      ],
      "metadata": {
        "id": "SadN8m50VjvL"
      },
      "execution_count": null,
      "outputs": []
    },
    {
      "cell_type": "code",
      "source": [
        "X_train"
      ],
      "metadata": {
        "id": "Qx6Cpr5KYBWg",
        "colab": {
          "base_uri": "https://localhost:8080/",
          "height": 505
        },
        "outputId": "efd729f7-7f69-41c0-f03d-509190811d2a"
      },
      "execution_count": null,
      "outputs": [
        {
          "output_type": "execute_result",
          "data": {
            "text/plain": [
              "     H_Ranking_Prior_Season  A_Ranking_Prior_Season  HTHG  HTAG HTR  B365H  \\\n",
              "170                       6                      18     1     0   H   1.29   \n",
              "308                      13                      14     0     0   D   2.50   \n",
              "212                      12                       9     0     0   D   3.80   \n",
              "17                       18                       7     1     0   H   4.20   \n",
              "234                       8                       5     0     0   D   4.75   \n",
              "..                      ...                     ...   ...   ...  ..    ...   \n",
              "323                       4                       6     0     2   A   2.80   \n",
              "192                      15                      14     0     0   D   2.88   \n",
              "117                      18                       4     1     0   H   5.00   \n",
              "47                        7                       4     0     1   A   3.60   \n",
              "172                      17                       7     1     1   D   2.60   \n",
              "\n",
              "     B365D  B365A  half_time_GD  HomeTeam_Arsenal  ...  AwayTeam_Leicester  \\\n",
              "170   5.50  11.00             1                 0  ...                   0   \n",
              "308   3.25   2.88             0                 0  ...                   0   \n",
              "212   3.50   2.00             0                 0  ...                   0   \n",
              "17    3.60   1.85             1                 0  ...                   0   \n",
              "234   4.00   1.70             0                 0  ...                   0   \n",
              "..     ...    ...           ...               ...  ...                 ...   \n",
              "323   3.60   2.40            -2                 0  ...                   0   \n",
              "192   3.25   2.55             0                 0  ...                   0   \n",
              "117   3.80   1.70             1                 0  ...                   0   \n",
              "47    3.80   1.95            -1                 0  ...                   0   \n",
              "172   3.50   2.60             0                 0  ...                   0   \n",
              "\n",
              "     AwayTeam_Liverpool  AwayTeam_Man City  AwayTeam_Man United  \\\n",
              "170                   0                  0                    0   \n",
              "308                   0                  0                    0   \n",
              "212                   0                  0                    0   \n",
              "17                    0                  0                    0   \n",
              "234                   0                  0                    0   \n",
              "..                  ...                ...                  ...   \n",
              "323                   0                  0                    1   \n",
              "192                   0                  0                    0   \n",
              "117                   0                  0                    0   \n",
              "47                    0                  0                    0   \n",
              "172                   0                  0                    0   \n",
              "\n",
              "     AwayTeam_Newcastle  AwayTeam_Nott'm Forest  AwayTeam_Southampton  \\\n",
              "170                   0                       0                     0   \n",
              "308                   0                       0                     0   \n",
              "212                   0                       0                     0   \n",
              "17                    0                       0                     0   \n",
              "234                   0                       0                     0   \n",
              "..                  ...                     ...                   ...   \n",
              "323                   0                       0                     0   \n",
              "192                   0                       0                     0   \n",
              "117                   0                       0                     0   \n",
              "47                    0                       0                     0   \n",
              "172                   0                       0                     0   \n",
              "\n",
              "     AwayTeam_Tottenham  AwayTeam_West Ham  AwayTeam_Wolves  \n",
              "170                   0                  0                0  \n",
              "308                   0                  0                0  \n",
              "212                   0                  0                0  \n",
              "17                    0                  1                0  \n",
              "234                   0                  0                0  \n",
              "..                  ...                ...              ...  \n",
              "323                   0                  0                0  \n",
              "192                   0                  0                0  \n",
              "117                   1                  0                0  \n",
              "47                    1                  0                0  \n",
              "172                   0                  1                0  \n",
              "\n",
              "[266 rows x 49 columns]"
            ],
            "text/html": [
              "\n",
              "  <div id=\"df-d5cc64f5-f767-43b6-ba49-5ba09305d3d0\">\n",
              "    <div class=\"colab-df-container\">\n",
              "      <div>\n",
              "<style scoped>\n",
              "    .dataframe tbody tr th:only-of-type {\n",
              "        vertical-align: middle;\n",
              "    }\n",
              "\n",
              "    .dataframe tbody tr th {\n",
              "        vertical-align: top;\n",
              "    }\n",
              "\n",
              "    .dataframe thead th {\n",
              "        text-align: right;\n",
              "    }\n",
              "</style>\n",
              "<table border=\"1\" class=\"dataframe\">\n",
              "  <thead>\n",
              "    <tr style=\"text-align: right;\">\n",
              "      <th></th>\n",
              "      <th>H_Ranking_Prior_Season</th>\n",
              "      <th>A_Ranking_Prior_Season</th>\n",
              "      <th>HTHG</th>\n",
              "      <th>HTAG</th>\n",
              "      <th>HTR</th>\n",
              "      <th>B365H</th>\n",
              "      <th>B365D</th>\n",
              "      <th>B365A</th>\n",
              "      <th>half_time_GD</th>\n",
              "      <th>HomeTeam_Arsenal</th>\n",
              "      <th>...</th>\n",
              "      <th>AwayTeam_Leicester</th>\n",
              "      <th>AwayTeam_Liverpool</th>\n",
              "      <th>AwayTeam_Man City</th>\n",
              "      <th>AwayTeam_Man United</th>\n",
              "      <th>AwayTeam_Newcastle</th>\n",
              "      <th>AwayTeam_Nott'm Forest</th>\n",
              "      <th>AwayTeam_Southampton</th>\n",
              "      <th>AwayTeam_Tottenham</th>\n",
              "      <th>AwayTeam_West Ham</th>\n",
              "      <th>AwayTeam_Wolves</th>\n",
              "    </tr>\n",
              "  </thead>\n",
              "  <tbody>\n",
              "    <tr>\n",
              "      <th>170</th>\n",
              "      <td>6</td>\n",
              "      <td>18</td>\n",
              "      <td>1</td>\n",
              "      <td>0</td>\n",
              "      <td>H</td>\n",
              "      <td>1.29</td>\n",
              "      <td>5.50</td>\n",
              "      <td>11.00</td>\n",
              "      <td>1</td>\n",
              "      <td>0</td>\n",
              "      <td>...</td>\n",
              "      <td>0</td>\n",
              "      <td>0</td>\n",
              "      <td>0</td>\n",
              "      <td>0</td>\n",
              "      <td>0</td>\n",
              "      <td>0</td>\n",
              "      <td>0</td>\n",
              "      <td>0</td>\n",
              "      <td>0</td>\n",
              "      <td>0</td>\n",
              "    </tr>\n",
              "    <tr>\n",
              "      <th>308</th>\n",
              "      <td>13</td>\n",
              "      <td>14</td>\n",
              "      <td>0</td>\n",
              "      <td>0</td>\n",
              "      <td>D</td>\n",
              "      <td>2.50</td>\n",
              "      <td>3.25</td>\n",
              "      <td>2.88</td>\n",
              "      <td>0</td>\n",
              "      <td>0</td>\n",
              "      <td>...</td>\n",
              "      <td>0</td>\n",
              "      <td>0</td>\n",
              "      <td>0</td>\n",
              "      <td>0</td>\n",
              "      <td>0</td>\n",
              "      <td>0</td>\n",
              "      <td>0</td>\n",
              "      <td>0</td>\n",
              "      <td>0</td>\n",
              "      <td>0</td>\n",
              "    </tr>\n",
              "    <tr>\n",
              "      <th>212</th>\n",
              "      <td>12</td>\n",
              "      <td>9</td>\n",
              "      <td>0</td>\n",
              "      <td>0</td>\n",
              "      <td>D</td>\n",
              "      <td>3.80</td>\n",
              "      <td>3.50</td>\n",
              "      <td>2.00</td>\n",
              "      <td>0</td>\n",
              "      <td>0</td>\n",
              "      <td>...</td>\n",
              "      <td>0</td>\n",
              "      <td>0</td>\n",
              "      <td>0</td>\n",
              "      <td>0</td>\n",
              "      <td>0</td>\n",
              "      <td>0</td>\n",
              "      <td>0</td>\n",
              "      <td>0</td>\n",
              "      <td>0</td>\n",
              "      <td>0</td>\n",
              "    </tr>\n",
              "    <tr>\n",
              "      <th>17</th>\n",
              "      <td>18</td>\n",
              "      <td>7</td>\n",
              "      <td>1</td>\n",
              "      <td>0</td>\n",
              "      <td>H</td>\n",
              "      <td>4.20</td>\n",
              "      <td>3.60</td>\n",
              "      <td>1.85</td>\n",
              "      <td>1</td>\n",
              "      <td>0</td>\n",
              "      <td>...</td>\n",
              "      <td>0</td>\n",
              "      <td>0</td>\n",
              "      <td>0</td>\n",
              "      <td>0</td>\n",
              "      <td>0</td>\n",
              "      <td>0</td>\n",
              "      <td>0</td>\n",
              "      <td>0</td>\n",
              "      <td>1</td>\n",
              "      <td>0</td>\n",
              "    </tr>\n",
              "    <tr>\n",
              "      <th>234</th>\n",
              "      <td>8</td>\n",
              "      <td>5</td>\n",
              "      <td>0</td>\n",
              "      <td>0</td>\n",
              "      <td>D</td>\n",
              "      <td>4.75</td>\n",
              "      <td>4.00</td>\n",
              "      <td>1.70</td>\n",
              "      <td>0</td>\n",
              "      <td>0</td>\n",
              "      <td>...</td>\n",
              "      <td>0</td>\n",
              "      <td>0</td>\n",
              "      <td>0</td>\n",
              "      <td>0</td>\n",
              "      <td>0</td>\n",
              "      <td>0</td>\n",
              "      <td>0</td>\n",
              "      <td>0</td>\n",
              "      <td>0</td>\n",
              "      <td>0</td>\n",
              "    </tr>\n",
              "    <tr>\n",
              "      <th>...</th>\n",
              "      <td>...</td>\n",
              "      <td>...</td>\n",
              "      <td>...</td>\n",
              "      <td>...</td>\n",
              "      <td>...</td>\n",
              "      <td>...</td>\n",
              "      <td>...</td>\n",
              "      <td>...</td>\n",
              "      <td>...</td>\n",
              "      <td>...</td>\n",
              "      <td>...</td>\n",
              "      <td>...</td>\n",
              "      <td>...</td>\n",
              "      <td>...</td>\n",
              "      <td>...</td>\n",
              "      <td>...</td>\n",
              "      <td>...</td>\n",
              "      <td>...</td>\n",
              "      <td>...</td>\n",
              "      <td>...</td>\n",
              "      <td>...</td>\n",
              "    </tr>\n",
              "    <tr>\n",
              "      <th>323</th>\n",
              "      <td>4</td>\n",
              "      <td>6</td>\n",
              "      <td>0</td>\n",
              "      <td>2</td>\n",
              "      <td>A</td>\n",
              "      <td>2.80</td>\n",
              "      <td>3.60</td>\n",
              "      <td>2.40</td>\n",
              "      <td>-2</td>\n",
              "      <td>0</td>\n",
              "      <td>...</td>\n",
              "      <td>0</td>\n",
              "      <td>0</td>\n",
              "      <td>0</td>\n",
              "      <td>1</td>\n",
              "      <td>0</td>\n",
              "      <td>0</td>\n",
              "      <td>0</td>\n",
              "      <td>0</td>\n",
              "      <td>0</td>\n",
              "      <td>0</td>\n",
              "    </tr>\n",
              "    <tr>\n",
              "      <th>192</th>\n",
              "      <td>15</td>\n",
              "      <td>14</td>\n",
              "      <td>0</td>\n",
              "      <td>0</td>\n",
              "      <td>D</td>\n",
              "      <td>2.88</td>\n",
              "      <td>3.25</td>\n",
              "      <td>2.55</td>\n",
              "      <td>0</td>\n",
              "      <td>0</td>\n",
              "      <td>...</td>\n",
              "      <td>0</td>\n",
              "      <td>0</td>\n",
              "      <td>0</td>\n",
              "      <td>0</td>\n",
              "      <td>0</td>\n",
              "      <td>0</td>\n",
              "      <td>0</td>\n",
              "      <td>0</td>\n",
              "      <td>0</td>\n",
              "      <td>0</td>\n",
              "    </tr>\n",
              "    <tr>\n",
              "      <th>117</th>\n",
              "      <td>18</td>\n",
              "      <td>4</td>\n",
              "      <td>1</td>\n",
              "      <td>0</td>\n",
              "      <td>H</td>\n",
              "      <td>5.00</td>\n",
              "      <td>3.80</td>\n",
              "      <td>1.70</td>\n",
              "      <td>1</td>\n",
              "      <td>0</td>\n",
              "      <td>...</td>\n",
              "      <td>0</td>\n",
              "      <td>0</td>\n",
              "      <td>0</td>\n",
              "      <td>0</td>\n",
              "      <td>0</td>\n",
              "      <td>0</td>\n",
              "      <td>0</td>\n",
              "      <td>1</td>\n",
              "      <td>0</td>\n",
              "      <td>0</td>\n",
              "    </tr>\n",
              "    <tr>\n",
              "      <th>47</th>\n",
              "      <td>7</td>\n",
              "      <td>4</td>\n",
              "      <td>0</td>\n",
              "      <td>1</td>\n",
              "      <td>A</td>\n",
              "      <td>3.60</td>\n",
              "      <td>3.80</td>\n",
              "      <td>1.95</td>\n",
              "      <td>-1</td>\n",
              "      <td>0</td>\n",
              "      <td>...</td>\n",
              "      <td>0</td>\n",
              "      <td>0</td>\n",
              "      <td>0</td>\n",
              "      <td>0</td>\n",
              "      <td>0</td>\n",
              "      <td>0</td>\n",
              "      <td>0</td>\n",
              "      <td>1</td>\n",
              "      <td>0</td>\n",
              "      <td>0</td>\n",
              "    </tr>\n",
              "    <tr>\n",
              "      <th>172</th>\n",
              "      <td>17</td>\n",
              "      <td>7</td>\n",
              "      <td>1</td>\n",
              "      <td>1</td>\n",
              "      <td>D</td>\n",
              "      <td>2.60</td>\n",
              "      <td>3.50</td>\n",
              "      <td>2.60</td>\n",
              "      <td>0</td>\n",
              "      <td>0</td>\n",
              "      <td>...</td>\n",
              "      <td>0</td>\n",
              "      <td>0</td>\n",
              "      <td>0</td>\n",
              "      <td>0</td>\n",
              "      <td>0</td>\n",
              "      <td>0</td>\n",
              "      <td>0</td>\n",
              "      <td>0</td>\n",
              "      <td>1</td>\n",
              "      <td>0</td>\n",
              "    </tr>\n",
              "  </tbody>\n",
              "</table>\n",
              "<p>266 rows × 49 columns</p>\n",
              "</div>\n",
              "      <button class=\"colab-df-convert\" onclick=\"convertToInteractive('df-d5cc64f5-f767-43b6-ba49-5ba09305d3d0')\"\n",
              "              title=\"Convert this dataframe to an interactive table.\"\n",
              "              style=\"display:none;\">\n",
              "        \n",
              "  <svg xmlns=\"http://www.w3.org/2000/svg\" height=\"24px\"viewBox=\"0 0 24 24\"\n",
              "       width=\"24px\">\n",
              "    <path d=\"M0 0h24v24H0V0z\" fill=\"none\"/>\n",
              "    <path d=\"M18.56 5.44l.94 2.06.94-2.06 2.06-.94-2.06-.94-.94-2.06-.94 2.06-2.06.94zm-11 1L8.5 8.5l.94-2.06 2.06-.94-2.06-.94L8.5 2.5l-.94 2.06-2.06.94zm10 10l.94 2.06.94-2.06 2.06-.94-2.06-.94-.94-2.06-.94 2.06-2.06.94z\"/><path d=\"M17.41 7.96l-1.37-1.37c-.4-.4-.92-.59-1.43-.59-.52 0-1.04.2-1.43.59L10.3 9.45l-7.72 7.72c-.78.78-.78 2.05 0 2.83L4 21.41c.39.39.9.59 1.41.59.51 0 1.02-.2 1.41-.59l7.78-7.78 2.81-2.81c.8-.78.8-2.07 0-2.86zM5.41 20L4 18.59l7.72-7.72 1.47 1.35L5.41 20z\"/>\n",
              "  </svg>\n",
              "      </button>\n",
              "      \n",
              "  <style>\n",
              "    .colab-df-container {\n",
              "      display:flex;\n",
              "      flex-wrap:wrap;\n",
              "      gap: 12px;\n",
              "    }\n",
              "\n",
              "    .colab-df-convert {\n",
              "      background-color: #E8F0FE;\n",
              "      border: none;\n",
              "      border-radius: 50%;\n",
              "      cursor: pointer;\n",
              "      display: none;\n",
              "      fill: #1967D2;\n",
              "      height: 32px;\n",
              "      padding: 0 0 0 0;\n",
              "      width: 32px;\n",
              "    }\n",
              "\n",
              "    .colab-df-convert:hover {\n",
              "      background-color: #E2EBFA;\n",
              "      box-shadow: 0px 1px 2px rgba(60, 64, 67, 0.3), 0px 1px 3px 1px rgba(60, 64, 67, 0.15);\n",
              "      fill: #174EA6;\n",
              "    }\n",
              "\n",
              "    [theme=dark] .colab-df-convert {\n",
              "      background-color: #3B4455;\n",
              "      fill: #D2E3FC;\n",
              "    }\n",
              "\n",
              "    [theme=dark] .colab-df-convert:hover {\n",
              "      background-color: #434B5C;\n",
              "      box-shadow: 0px 1px 3px 1px rgba(0, 0, 0, 0.15);\n",
              "      filter: drop-shadow(0px 1px 2px rgba(0, 0, 0, 0.3));\n",
              "      fill: #FFFFFF;\n",
              "    }\n",
              "  </style>\n",
              "\n",
              "      <script>\n",
              "        const buttonEl =\n",
              "          document.querySelector('#df-d5cc64f5-f767-43b6-ba49-5ba09305d3d0 button.colab-df-convert');\n",
              "        buttonEl.style.display =\n",
              "          google.colab.kernel.accessAllowed ? 'block' : 'none';\n",
              "\n",
              "        async function convertToInteractive(key) {\n",
              "          const element = document.querySelector('#df-d5cc64f5-f767-43b6-ba49-5ba09305d3d0');\n",
              "          const dataTable =\n",
              "            await google.colab.kernel.invokeFunction('convertToInteractive',\n",
              "                                                     [key], {});\n",
              "          if (!dataTable) return;\n",
              "\n",
              "          const docLinkHtml = 'Like what you see? Visit the ' +\n",
              "            '<a target=\"_blank\" href=https://colab.research.google.com/notebooks/data_table.ipynb>data table notebook</a>'\n",
              "            + ' to learn more about interactive tables.';\n",
              "          element.innerHTML = '';\n",
              "          dataTable['output_type'] = 'display_data';\n",
              "          await google.colab.output.renderOutput(dataTable, element);\n",
              "          const docLink = document.createElement('div');\n",
              "          docLink.innerHTML = docLinkHtml;\n",
              "          element.appendChild(docLink);\n",
              "        }\n",
              "      </script>\n",
              "    </div>\n",
              "  </div>\n",
              "  "
            ]
          },
          "metadata": {},
          "execution_count": 41
        }
      ]
    },
    {
      "cell_type": "code",
      "source": [
        "y_train"
      ],
      "metadata": {
        "id": "0i3iORlsYEgm",
        "colab": {
          "base_uri": "https://localhost:8080/"
        },
        "outputId": "200e8336-fd77-4b46-c5b0-f7c86ec60486"
      },
      "execution_count": null,
      "outputs": [
        {
          "output_type": "execute_result",
          "data": {
            "text/plain": [
              "170    H\n",
              "308    D\n",
              "212    D\n",
              "17     H\n",
              "234    A\n",
              "      ..\n",
              "323    D\n",
              "192    A\n",
              "117    A\n",
              "47     D\n",
              "172    D\n",
              "Name: FTR, Length: 266, dtype: object"
            ]
          },
          "metadata": {},
          "execution_count": 42
        }
      ]
    },
    {
      "cell_type": "code",
      "source": [
        "## Baseline model\n",
        "### Using half time results to predict full time (e.g. if half time winning, then predict full time winning)\n",
        "\n",
        "# make predictions\n",
        "y_pred_train = X_train['HTR']\n",
        "y_pred_test = X_test['HTR']"
      ],
      "metadata": {
        "id": "HBUvVokwYmrK"
      },
      "execution_count": null,
      "outputs": []
    },
    {
      "cell_type": "code",
      "source": [
        "from sklearn.metrics import accuracy_score\n",
        "\n",
        "print('Accuracy on Train data: ', round(accuracy_score(y_pred_train, y_train), 3))\n",
        "print('Accuracy on Test data: ', round(accuracy_score(y_pred_test, y_test),3))"
      ],
      "metadata": {
        "id": "uG3FKWKrZRAe",
        "colab": {
          "base_uri": "https://localhost:8080/"
        },
        "outputId": "780dc842-a8ff-4533-ea3f-bcfd48e0307b"
      },
      "execution_count": null,
      "outputs": [
        {
          "output_type": "stream",
          "name": "stdout",
          "text": [
            "Accuracy on Train data:  0.594\n",
            "Accuracy on Test data:  0.623\n"
          ]
        }
      ]
    },
    {
      "cell_type": "markdown",
      "source": [
        "## Logistic Regression Model"
      ],
      "metadata": {
        "id": "eEyyC_0kfnnx"
      }
    },
    {
      "cell_type": "code",
      "source": [
        "from sklearn.linear_model import LogisticRegression"
      ],
      "metadata": {
        "id": "1m5gXSHzhF3x"
      },
      "execution_count": null,
      "outputs": []
    },
    {
      "cell_type": "code",
      "source": [
        "features_to_encode = ['HTR']\n",
        "\n",
        "for feature in features_to_encode:\n",
        "    X_train = encode_and_bind(X_train, feature)\n",
        "\n",
        "for feature in features_to_encode:\n",
        "    X_test = encode_and_bind(X_test, feature)\n",
        "\n",
        "# results of one-hot encoding\n",
        "X_train.head()"
      ],
      "metadata": {
        "id": "WT9iItj-m04Z",
        "colab": {
          "base_uri": "https://localhost:8080/",
          "height": 317
        },
        "outputId": "a04d4abe-8d76-4db2-be28-45f52f015225"
      },
      "execution_count": null,
      "outputs": [
        {
          "output_type": "execute_result",
          "data": {
            "text/plain": [
              "     H_Ranking_Prior_Season  A_Ranking_Prior_Season  HTHG  HTAG  B365H  B365D  \\\n",
              "170                       6                      18     1     0   1.29   5.50   \n",
              "308                      13                      14     0     0   2.50   3.25   \n",
              "212                      12                       9     0     0   3.80   3.50   \n",
              "17                       18                       7     1     0   4.20   3.60   \n",
              "234                       8                       5     0     0   4.75   4.00   \n",
              "\n",
              "     B365A  half_time_GD  HomeTeam_Arsenal  HomeTeam_Aston Villa  ...  \\\n",
              "170  11.00             1                 0                     0  ...   \n",
              "308   2.88             0                 0                     0  ...   \n",
              "212   2.00             0                 0                     0  ...   \n",
              "17    1.85             1                 0                     0  ...   \n",
              "234   1.70             0                 0                     0  ...   \n",
              "\n",
              "     AwayTeam_Man United  AwayTeam_Newcastle  AwayTeam_Nott'm Forest  \\\n",
              "170                    0                   0                       0   \n",
              "308                    0                   0                       0   \n",
              "212                    0                   0                       0   \n",
              "17                     0                   0                       0   \n",
              "234                    0                   0                       0   \n",
              "\n",
              "     AwayTeam_Southampton  AwayTeam_Tottenham  AwayTeam_West Ham  \\\n",
              "170                     0                   0                  0   \n",
              "308                     0                   0                  0   \n",
              "212                     0                   0                  0   \n",
              "17                      0                   0                  1   \n",
              "234                     0                   0                  0   \n",
              "\n",
              "     AwayTeam_Wolves  HTR_A  HTR_D  HTR_H  \n",
              "170                0      0      0      1  \n",
              "308                0      0      1      0  \n",
              "212                0      0      1      0  \n",
              "17                 0      0      0      1  \n",
              "234                0      0      1      0  \n",
              "\n",
              "[5 rows x 51 columns]"
            ],
            "text/html": [
              "\n",
              "  <div id=\"df-45dbe30d-65d6-47b9-8fc4-7a5d04bc5a4a\">\n",
              "    <div class=\"colab-df-container\">\n",
              "      <div>\n",
              "<style scoped>\n",
              "    .dataframe tbody tr th:only-of-type {\n",
              "        vertical-align: middle;\n",
              "    }\n",
              "\n",
              "    .dataframe tbody tr th {\n",
              "        vertical-align: top;\n",
              "    }\n",
              "\n",
              "    .dataframe thead th {\n",
              "        text-align: right;\n",
              "    }\n",
              "</style>\n",
              "<table border=\"1\" class=\"dataframe\">\n",
              "  <thead>\n",
              "    <tr style=\"text-align: right;\">\n",
              "      <th></th>\n",
              "      <th>H_Ranking_Prior_Season</th>\n",
              "      <th>A_Ranking_Prior_Season</th>\n",
              "      <th>HTHG</th>\n",
              "      <th>HTAG</th>\n",
              "      <th>B365H</th>\n",
              "      <th>B365D</th>\n",
              "      <th>B365A</th>\n",
              "      <th>half_time_GD</th>\n",
              "      <th>HomeTeam_Arsenal</th>\n",
              "      <th>HomeTeam_Aston Villa</th>\n",
              "      <th>...</th>\n",
              "      <th>AwayTeam_Man United</th>\n",
              "      <th>AwayTeam_Newcastle</th>\n",
              "      <th>AwayTeam_Nott'm Forest</th>\n",
              "      <th>AwayTeam_Southampton</th>\n",
              "      <th>AwayTeam_Tottenham</th>\n",
              "      <th>AwayTeam_West Ham</th>\n",
              "      <th>AwayTeam_Wolves</th>\n",
              "      <th>HTR_A</th>\n",
              "      <th>HTR_D</th>\n",
              "      <th>HTR_H</th>\n",
              "    </tr>\n",
              "  </thead>\n",
              "  <tbody>\n",
              "    <tr>\n",
              "      <th>170</th>\n",
              "      <td>6</td>\n",
              "      <td>18</td>\n",
              "      <td>1</td>\n",
              "      <td>0</td>\n",
              "      <td>1.29</td>\n",
              "      <td>5.50</td>\n",
              "      <td>11.00</td>\n",
              "      <td>1</td>\n",
              "      <td>0</td>\n",
              "      <td>0</td>\n",
              "      <td>...</td>\n",
              "      <td>0</td>\n",
              "      <td>0</td>\n",
              "      <td>0</td>\n",
              "      <td>0</td>\n",
              "      <td>0</td>\n",
              "      <td>0</td>\n",
              "      <td>0</td>\n",
              "      <td>0</td>\n",
              "      <td>0</td>\n",
              "      <td>1</td>\n",
              "    </tr>\n",
              "    <tr>\n",
              "      <th>308</th>\n",
              "      <td>13</td>\n",
              "      <td>14</td>\n",
              "      <td>0</td>\n",
              "      <td>0</td>\n",
              "      <td>2.50</td>\n",
              "      <td>3.25</td>\n",
              "      <td>2.88</td>\n",
              "      <td>0</td>\n",
              "      <td>0</td>\n",
              "      <td>0</td>\n",
              "      <td>...</td>\n",
              "      <td>0</td>\n",
              "      <td>0</td>\n",
              "      <td>0</td>\n",
              "      <td>0</td>\n",
              "      <td>0</td>\n",
              "      <td>0</td>\n",
              "      <td>0</td>\n",
              "      <td>0</td>\n",
              "      <td>1</td>\n",
              "      <td>0</td>\n",
              "    </tr>\n",
              "    <tr>\n",
              "      <th>212</th>\n",
              "      <td>12</td>\n",
              "      <td>9</td>\n",
              "      <td>0</td>\n",
              "      <td>0</td>\n",
              "      <td>3.80</td>\n",
              "      <td>3.50</td>\n",
              "      <td>2.00</td>\n",
              "      <td>0</td>\n",
              "      <td>0</td>\n",
              "      <td>0</td>\n",
              "      <td>...</td>\n",
              "      <td>0</td>\n",
              "      <td>0</td>\n",
              "      <td>0</td>\n",
              "      <td>0</td>\n",
              "      <td>0</td>\n",
              "      <td>0</td>\n",
              "      <td>0</td>\n",
              "      <td>0</td>\n",
              "      <td>1</td>\n",
              "      <td>0</td>\n",
              "    </tr>\n",
              "    <tr>\n",
              "      <th>17</th>\n",
              "      <td>18</td>\n",
              "      <td>7</td>\n",
              "      <td>1</td>\n",
              "      <td>0</td>\n",
              "      <td>4.20</td>\n",
              "      <td>3.60</td>\n",
              "      <td>1.85</td>\n",
              "      <td>1</td>\n",
              "      <td>0</td>\n",
              "      <td>0</td>\n",
              "      <td>...</td>\n",
              "      <td>0</td>\n",
              "      <td>0</td>\n",
              "      <td>0</td>\n",
              "      <td>0</td>\n",
              "      <td>0</td>\n",
              "      <td>1</td>\n",
              "      <td>0</td>\n",
              "      <td>0</td>\n",
              "      <td>0</td>\n",
              "      <td>1</td>\n",
              "    </tr>\n",
              "    <tr>\n",
              "      <th>234</th>\n",
              "      <td>8</td>\n",
              "      <td>5</td>\n",
              "      <td>0</td>\n",
              "      <td>0</td>\n",
              "      <td>4.75</td>\n",
              "      <td>4.00</td>\n",
              "      <td>1.70</td>\n",
              "      <td>0</td>\n",
              "      <td>0</td>\n",
              "      <td>0</td>\n",
              "      <td>...</td>\n",
              "      <td>0</td>\n",
              "      <td>0</td>\n",
              "      <td>0</td>\n",
              "      <td>0</td>\n",
              "      <td>0</td>\n",
              "      <td>0</td>\n",
              "      <td>0</td>\n",
              "      <td>0</td>\n",
              "      <td>1</td>\n",
              "      <td>0</td>\n",
              "    </tr>\n",
              "  </tbody>\n",
              "</table>\n",
              "<p>5 rows × 51 columns</p>\n",
              "</div>\n",
              "      <button class=\"colab-df-convert\" onclick=\"convertToInteractive('df-45dbe30d-65d6-47b9-8fc4-7a5d04bc5a4a')\"\n",
              "              title=\"Convert this dataframe to an interactive table.\"\n",
              "              style=\"display:none;\">\n",
              "        \n",
              "  <svg xmlns=\"http://www.w3.org/2000/svg\" height=\"24px\"viewBox=\"0 0 24 24\"\n",
              "       width=\"24px\">\n",
              "    <path d=\"M0 0h24v24H0V0z\" fill=\"none\"/>\n",
              "    <path d=\"M18.56 5.44l.94 2.06.94-2.06 2.06-.94-2.06-.94-.94-2.06-.94 2.06-2.06.94zm-11 1L8.5 8.5l.94-2.06 2.06-.94-2.06-.94L8.5 2.5l-.94 2.06-2.06.94zm10 10l.94 2.06.94-2.06 2.06-.94-2.06-.94-.94-2.06-.94 2.06-2.06.94z\"/><path d=\"M17.41 7.96l-1.37-1.37c-.4-.4-.92-.59-1.43-.59-.52 0-1.04.2-1.43.59L10.3 9.45l-7.72 7.72c-.78.78-.78 2.05 0 2.83L4 21.41c.39.39.9.59 1.41.59.51 0 1.02-.2 1.41-.59l7.78-7.78 2.81-2.81c.8-.78.8-2.07 0-2.86zM5.41 20L4 18.59l7.72-7.72 1.47 1.35L5.41 20z\"/>\n",
              "  </svg>\n",
              "      </button>\n",
              "      \n",
              "  <style>\n",
              "    .colab-df-container {\n",
              "      display:flex;\n",
              "      flex-wrap:wrap;\n",
              "      gap: 12px;\n",
              "    }\n",
              "\n",
              "    .colab-df-convert {\n",
              "      background-color: #E8F0FE;\n",
              "      border: none;\n",
              "      border-radius: 50%;\n",
              "      cursor: pointer;\n",
              "      display: none;\n",
              "      fill: #1967D2;\n",
              "      height: 32px;\n",
              "      padding: 0 0 0 0;\n",
              "      width: 32px;\n",
              "    }\n",
              "\n",
              "    .colab-df-convert:hover {\n",
              "      background-color: #E2EBFA;\n",
              "      box-shadow: 0px 1px 2px rgba(60, 64, 67, 0.3), 0px 1px 3px 1px rgba(60, 64, 67, 0.15);\n",
              "      fill: #174EA6;\n",
              "    }\n",
              "\n",
              "    [theme=dark] .colab-df-convert {\n",
              "      background-color: #3B4455;\n",
              "      fill: #D2E3FC;\n",
              "    }\n",
              "\n",
              "    [theme=dark] .colab-df-convert:hover {\n",
              "      background-color: #434B5C;\n",
              "      box-shadow: 0px 1px 3px 1px rgba(0, 0, 0, 0.15);\n",
              "      filter: drop-shadow(0px 1px 2px rgba(0, 0, 0, 0.3));\n",
              "      fill: #FFFFFF;\n",
              "    }\n",
              "  </style>\n",
              "\n",
              "      <script>\n",
              "        const buttonEl =\n",
              "          document.querySelector('#df-45dbe30d-65d6-47b9-8fc4-7a5d04bc5a4a button.colab-df-convert');\n",
              "        buttonEl.style.display =\n",
              "          google.colab.kernel.accessAllowed ? 'block' : 'none';\n",
              "\n",
              "        async function convertToInteractive(key) {\n",
              "          const element = document.querySelector('#df-45dbe30d-65d6-47b9-8fc4-7a5d04bc5a4a');\n",
              "          const dataTable =\n",
              "            await google.colab.kernel.invokeFunction('convertToInteractive',\n",
              "                                                     [key], {});\n",
              "          if (!dataTable) return;\n",
              "\n",
              "          const docLinkHtml = 'Like what you see? Visit the ' +\n",
              "            '<a target=\"_blank\" href=https://colab.research.google.com/notebooks/data_table.ipynb>data table notebook</a>'\n",
              "            + ' to learn more about interactive tables.';\n",
              "          element.innerHTML = '';\n",
              "          dataTable['output_type'] = 'display_data';\n",
              "          await google.colab.output.renderOutput(dataTable, element);\n",
              "          const docLink = document.createElement('div');\n",
              "          docLink.innerHTML = docLinkHtml;\n",
              "          element.appendChild(docLink);\n",
              "        }\n",
              "      </script>\n",
              "    </div>\n",
              "  </div>\n",
              "  "
            ]
          },
          "metadata": {},
          "execution_count": 46
        }
      ]
    },
    {
      "cell_type": "code",
      "source": [
        "logit = LogisticRegression()\n",
        "logit.fit(X_train,y_train)"
      ],
      "metadata": {
        "id": "-X0pr6a2j5Fm",
        "colab": {
          "base_uri": "https://localhost:8080/",
          "height": 238
        },
        "outputId": "c4605f1f-43ed-4100-c050-bc06df6bc125"
      },
      "execution_count": null,
      "outputs": [
        {
          "output_type": "stream",
          "name": "stderr",
          "text": [
            "/usr/local/lib/python3.10/dist-packages/sklearn/linear_model/_logistic.py:458: ConvergenceWarning: lbfgs failed to converge (status=1):\n",
            "STOP: TOTAL NO. of ITERATIONS REACHED LIMIT.\n",
            "\n",
            "Increase the number of iterations (max_iter) or scale the data as shown in:\n",
            "    https://scikit-learn.org/stable/modules/preprocessing.html\n",
            "Please also refer to the documentation for alternative solver options:\n",
            "    https://scikit-learn.org/stable/modules/linear_model.html#logistic-regression\n",
            "  n_iter_i = _check_optimize_result(\n"
          ]
        },
        {
          "output_type": "execute_result",
          "data": {
            "text/plain": [
              "LogisticRegression()"
            ],
            "text/html": [
              "<style>#sk-container-id-1 {color: black;background-color: white;}#sk-container-id-1 pre{padding: 0;}#sk-container-id-1 div.sk-toggleable {background-color: white;}#sk-container-id-1 label.sk-toggleable__label {cursor: pointer;display: block;width: 100%;margin-bottom: 0;padding: 0.3em;box-sizing: border-box;text-align: center;}#sk-container-id-1 label.sk-toggleable__label-arrow:before {content: \"▸\";float: left;margin-right: 0.25em;color: #696969;}#sk-container-id-1 label.sk-toggleable__label-arrow:hover:before {color: black;}#sk-container-id-1 div.sk-estimator:hover label.sk-toggleable__label-arrow:before {color: black;}#sk-container-id-1 div.sk-toggleable__content {max-height: 0;max-width: 0;overflow: hidden;text-align: left;background-color: #f0f8ff;}#sk-container-id-1 div.sk-toggleable__content pre {margin: 0.2em;color: black;border-radius: 0.25em;background-color: #f0f8ff;}#sk-container-id-1 input.sk-toggleable__control:checked~div.sk-toggleable__content {max-height: 200px;max-width: 100%;overflow: auto;}#sk-container-id-1 input.sk-toggleable__control:checked~label.sk-toggleable__label-arrow:before {content: \"▾\";}#sk-container-id-1 div.sk-estimator input.sk-toggleable__control:checked~label.sk-toggleable__label {background-color: #d4ebff;}#sk-container-id-1 div.sk-label input.sk-toggleable__control:checked~label.sk-toggleable__label {background-color: #d4ebff;}#sk-container-id-1 input.sk-hidden--visually {border: 0;clip: rect(1px 1px 1px 1px);clip: rect(1px, 1px, 1px, 1px);height: 1px;margin: -1px;overflow: hidden;padding: 0;position: absolute;width: 1px;}#sk-container-id-1 div.sk-estimator {font-family: monospace;background-color: #f0f8ff;border: 1px dotted black;border-radius: 0.25em;box-sizing: border-box;margin-bottom: 0.5em;}#sk-container-id-1 div.sk-estimator:hover {background-color: #d4ebff;}#sk-container-id-1 div.sk-parallel-item::after {content: \"\";width: 100%;border-bottom: 1px solid gray;flex-grow: 1;}#sk-container-id-1 div.sk-label:hover label.sk-toggleable__label {background-color: #d4ebff;}#sk-container-id-1 div.sk-serial::before {content: \"\";position: absolute;border-left: 1px solid gray;box-sizing: border-box;top: 0;bottom: 0;left: 50%;z-index: 0;}#sk-container-id-1 div.sk-serial {display: flex;flex-direction: column;align-items: center;background-color: white;padding-right: 0.2em;padding-left: 0.2em;position: relative;}#sk-container-id-1 div.sk-item {position: relative;z-index: 1;}#sk-container-id-1 div.sk-parallel {display: flex;align-items: stretch;justify-content: center;background-color: white;position: relative;}#sk-container-id-1 div.sk-item::before, #sk-container-id-1 div.sk-parallel-item::before {content: \"\";position: absolute;border-left: 1px solid gray;box-sizing: border-box;top: 0;bottom: 0;left: 50%;z-index: -1;}#sk-container-id-1 div.sk-parallel-item {display: flex;flex-direction: column;z-index: 1;position: relative;background-color: white;}#sk-container-id-1 div.sk-parallel-item:first-child::after {align-self: flex-end;width: 50%;}#sk-container-id-1 div.sk-parallel-item:last-child::after {align-self: flex-start;width: 50%;}#sk-container-id-1 div.sk-parallel-item:only-child::after {width: 0;}#sk-container-id-1 div.sk-dashed-wrapped {border: 1px dashed gray;margin: 0 0.4em 0.5em 0.4em;box-sizing: border-box;padding-bottom: 0.4em;background-color: white;}#sk-container-id-1 div.sk-label label {font-family: monospace;font-weight: bold;display: inline-block;line-height: 1.2em;}#sk-container-id-1 div.sk-label-container {text-align: center;}#sk-container-id-1 div.sk-container {/* jupyter's `normalize.less` sets `[hidden] { display: none; }` but bootstrap.min.css set `[hidden] { display: none !important; }` so we also need the `!important` here to be able to override the default hidden behavior on the sphinx rendered scikit-learn.org. See: https://github.com/scikit-learn/scikit-learn/issues/21755 */display: inline-block !important;position: relative;}#sk-container-id-1 div.sk-text-repr-fallback {display: none;}</style><div id=\"sk-container-id-1\" class=\"sk-top-container\"><div class=\"sk-text-repr-fallback\"><pre>LogisticRegression()</pre><b>In a Jupyter environment, please rerun this cell to show the HTML representation or trust the notebook. <br />On GitHub, the HTML representation is unable to render, please try loading this page with nbviewer.org.</b></div><div class=\"sk-container\" hidden><div class=\"sk-item\"><div class=\"sk-estimator sk-toggleable\"><input class=\"sk-toggleable__control sk-hidden--visually\" id=\"sk-estimator-id-1\" type=\"checkbox\" checked><label for=\"sk-estimator-id-1\" class=\"sk-toggleable__label sk-toggleable__label-arrow\">LogisticRegression</label><div class=\"sk-toggleable__content\"><pre>LogisticRegression()</pre></div></div></div></div></div>"
            ]
          },
          "metadata": {},
          "execution_count": 47
        }
      ]
    },
    {
      "cell_type": "code",
      "source": [
        "print('Logistic regression accuracy on train set: ', round(logit.score(X_train,y_train),3))"
      ],
      "metadata": {
        "id": "h3u2YgOQpNwO",
        "colab": {
          "base_uri": "https://localhost:8080/"
        },
        "outputId": "4258806d-e13b-444f-8581-5a0b5a27f33b"
      },
      "execution_count": null,
      "outputs": [
        {
          "output_type": "stream",
          "name": "stdout",
          "text": [
            "Logistic regression accuracy on train set:  0.741\n"
          ]
        }
      ]
    },
    {
      "cell_type": "code",
      "source": [
        "print('Logistic regression accuracy on test set: ', round(logit.score(X_test,y_test),3))"
      ],
      "metadata": {
        "id": "tSiPJFbXnb3Y",
        "colab": {
          "base_uri": "https://localhost:8080/"
        },
        "outputId": "6cab1cbc-b932-46ea-fe9d-71a055937a12"
      },
      "execution_count": null,
      "outputs": [
        {
          "output_type": "stream",
          "name": "stdout",
          "text": [
            "Logistic regression accuracy on test set:  0.561\n"
          ]
        }
      ]
    },
    {
      "cell_type": "code",
      "source": [
        "## We see evidence of overfitting (train accuracy much better than test)\n",
        "## Let's explore the coefficients\n",
        "logit.coef_"
      ],
      "metadata": {
        "id": "Rtw0qnkSYmaZ",
        "colab": {
          "base_uri": "https://localhost:8080/"
        },
        "outputId": "d00f2c1c-5372-4fce-ce63-f63d93c2324f"
      },
      "execution_count": null,
      "outputs": [
        {
          "output_type": "execute_result",
          "data": {
            "text/plain": [
              "array([[-7.30195947e-03,  6.25254741e-02, -2.24738619e-01,\n",
              "         3.53112391e-01,  2.52519879e-01, -2.35435986e-01,\n",
              "        -1.49974009e-01, -5.77851010e-01,  3.62816213e-01,\n",
              "        -2.13470187e-02,  4.16795087e-01, -5.51407569e-01,\n",
              "        -5.68939918e-03,  1.72765366e-01, -1.79391005e-01,\n",
              "         6.85284291e-01, -1.34143436e-01, -2.97391103e-01,\n",
              "         3.20074107e-01, -6.48320625e-02, -2.69825153e-01,\n",
              "        -7.25857598e-01, -3.72534222e-01, -4.44932726e-01,\n",
              "         5.51617880e-01,  3.57303543e-01, -1.66699877e-01,\n",
              "         3.11205245e-01,  5.81039557e-01,  1.06659315e-01,\n",
              "         4.96263457e-01,  3.87023022e-02, -9.40950411e-02,\n",
              "         6.49404666e-02, -1.76743431e-01, -4.95885351e-01,\n",
              "         7.58242233e-01, -5.13872476e-01, -1.18733536e-03,\n",
              "        -1.17376461e-01,  2.35832505e-01, -4.53102978e-01,\n",
              "         2.62839536e-01, -6.22701317e-01,  7.44084652e-01,\n",
              "         1.32096995e-01, -4.81462429e-01, -5.20463637e-01,\n",
              "        -1.01000937e-01,  1.09570957e-01, -6.47594570e-02],\n",
              "       [-2.81962654e-03, -3.38191775e-02, -1.19582132e-01,\n",
              "        -5.99075525e-02,  1.54732108e-01,  5.94369387e-02,\n",
              "         1.18569330e-01, -5.96745790e-02, -6.46128787e-01,\n",
              "        -1.45574994e-01, -8.24634524e-01,  5.74982062e-01,\n",
              "         7.62298694e-02,  4.57795993e-01, -2.14613163e-03,\n",
              "        -1.33925083e-01, -2.83010469e-01,  4.16360850e-01,\n",
              "         1.09021847e-01,  1.02200273e-01, -4.19719776e-01,\n",
              "         2.09718485e-01,  4.74600492e-01,  2.88436396e-01,\n",
              "         1.74496777e-01, -6.32094695e-01,  7.17308882e-02,\n",
              "        -2.60795732e-01, -2.10953626e-01,  4.29586986e-01,\n",
              "        -8.22947004e-01,  7.21264251e-01,  2.19358828e-01,\n",
              "        -7.74663987e-02, -1.07357730e-01,  1.20924424e+00,\n",
              "        -1.00203431e+00,  1.93218653e-01, -3.34582075e-01,\n",
              "        -1.68234175e-01, -5.62525546e-01,  1.65289079e-01,\n",
              "         4.11170959e-01,  5.67453112e-02, -4.66009343e-01,\n",
              "        -7.27348478e-02,  1.28055911e-01, -1.01545417e-01,\n",
              "        -5.19817239e-02,  2.34857855e-02, -3.63960321e-01],\n",
              "       [ 1.01215860e-02, -2.87062966e-02,  3.44320751e-01,\n",
              "        -2.93204838e-01, -4.07251987e-01,  1.75999048e-01,\n",
              "         3.14046783e-02,  6.37525589e-01,  2.83312574e-01,\n",
              "         1.66922012e-01,  4.07839438e-01, -2.35744936e-02,\n",
              "        -7.05404702e-02, -6.30561359e-01,  1.81537137e-01,\n",
              "        -5.51359208e-01,  4.17153905e-01, -1.18969747e-01,\n",
              "        -4.29095954e-01, -3.73682104e-02,  6.89544929e-01,\n",
              "         5.16139114e-01, -1.02066270e-01,  1.56496330e-01,\n",
              "        -7.26114657e-01,  2.74791152e-01,  9.49689885e-02,\n",
              "        -5.04095123e-02, -3.70085931e-01, -5.36246301e-01,\n",
              "         3.26683546e-01, -7.59966553e-01, -1.25263787e-01,\n",
              "         1.25259321e-02,  2.84101161e-01, -7.13358886e-01,\n",
              "         2.43792078e-01,  3.20653823e-01,  3.35769411e-01,\n",
              "         2.85610637e-01,  3.26693041e-01,  2.87813899e-01,\n",
              "        -6.74010495e-01,  5.65956006e-01, -2.78075309e-01,\n",
              "        -5.93621470e-02,  3.53406518e-01,  6.22009053e-01,\n",
              "         1.52982661e-01, -1.33056743e-01,  4.28719778e-01]])"
            ]
          },
          "metadata": {},
          "execution_count": 50
        }
      ]
    },
    {
      "cell_type": "markdown",
      "source": [
        "### Hyperparamater tuning, Logistic Regression"
      ],
      "metadata": {
        "id": "GmZC0ESGYFto"
      }
    },
    {
      "cell_type": "code",
      "source": [
        "## Adjusting C parameter\n",
        "logit_tuned = LogisticRegression(penalty = 'l2', C = 0.000001)\n",
        "logit_tuned.fit(X_train,y_train)"
      ],
      "metadata": {
        "id": "gIOEZ4f2YJDW",
        "colab": {
          "base_uri": "https://localhost:8080/",
          "height": 75
        },
        "outputId": "cb434e7d-2d23-4322-c844-3ffc36838df8"
      },
      "execution_count": null,
      "outputs": [
        {
          "output_type": "execute_result",
          "data": {
            "text/plain": [
              "LogisticRegression(C=1e-06)"
            ],
            "text/html": [
              "<style>#sk-container-id-2 {color: black;background-color: white;}#sk-container-id-2 pre{padding: 0;}#sk-container-id-2 div.sk-toggleable {background-color: white;}#sk-container-id-2 label.sk-toggleable__label {cursor: pointer;display: block;width: 100%;margin-bottom: 0;padding: 0.3em;box-sizing: border-box;text-align: center;}#sk-container-id-2 label.sk-toggleable__label-arrow:before {content: \"▸\";float: left;margin-right: 0.25em;color: #696969;}#sk-container-id-2 label.sk-toggleable__label-arrow:hover:before {color: black;}#sk-container-id-2 div.sk-estimator:hover label.sk-toggleable__label-arrow:before {color: black;}#sk-container-id-2 div.sk-toggleable__content {max-height: 0;max-width: 0;overflow: hidden;text-align: left;background-color: #f0f8ff;}#sk-container-id-2 div.sk-toggleable__content pre {margin: 0.2em;color: black;border-radius: 0.25em;background-color: #f0f8ff;}#sk-container-id-2 input.sk-toggleable__control:checked~div.sk-toggleable__content {max-height: 200px;max-width: 100%;overflow: auto;}#sk-container-id-2 input.sk-toggleable__control:checked~label.sk-toggleable__label-arrow:before {content: \"▾\";}#sk-container-id-2 div.sk-estimator input.sk-toggleable__control:checked~label.sk-toggleable__label {background-color: #d4ebff;}#sk-container-id-2 div.sk-label input.sk-toggleable__control:checked~label.sk-toggleable__label {background-color: #d4ebff;}#sk-container-id-2 input.sk-hidden--visually {border: 0;clip: rect(1px 1px 1px 1px);clip: rect(1px, 1px, 1px, 1px);height: 1px;margin: -1px;overflow: hidden;padding: 0;position: absolute;width: 1px;}#sk-container-id-2 div.sk-estimator {font-family: monospace;background-color: #f0f8ff;border: 1px dotted black;border-radius: 0.25em;box-sizing: border-box;margin-bottom: 0.5em;}#sk-container-id-2 div.sk-estimator:hover {background-color: #d4ebff;}#sk-container-id-2 div.sk-parallel-item::after {content: \"\";width: 100%;border-bottom: 1px solid gray;flex-grow: 1;}#sk-container-id-2 div.sk-label:hover label.sk-toggleable__label {background-color: #d4ebff;}#sk-container-id-2 div.sk-serial::before {content: \"\";position: absolute;border-left: 1px solid gray;box-sizing: border-box;top: 0;bottom: 0;left: 50%;z-index: 0;}#sk-container-id-2 div.sk-serial {display: flex;flex-direction: column;align-items: center;background-color: white;padding-right: 0.2em;padding-left: 0.2em;position: relative;}#sk-container-id-2 div.sk-item {position: relative;z-index: 1;}#sk-container-id-2 div.sk-parallel {display: flex;align-items: stretch;justify-content: center;background-color: white;position: relative;}#sk-container-id-2 div.sk-item::before, #sk-container-id-2 div.sk-parallel-item::before {content: \"\";position: absolute;border-left: 1px solid gray;box-sizing: border-box;top: 0;bottom: 0;left: 50%;z-index: -1;}#sk-container-id-2 div.sk-parallel-item {display: flex;flex-direction: column;z-index: 1;position: relative;background-color: white;}#sk-container-id-2 div.sk-parallel-item:first-child::after {align-self: flex-end;width: 50%;}#sk-container-id-2 div.sk-parallel-item:last-child::after {align-self: flex-start;width: 50%;}#sk-container-id-2 div.sk-parallel-item:only-child::after {width: 0;}#sk-container-id-2 div.sk-dashed-wrapped {border: 1px dashed gray;margin: 0 0.4em 0.5em 0.4em;box-sizing: border-box;padding-bottom: 0.4em;background-color: white;}#sk-container-id-2 div.sk-label label {font-family: monospace;font-weight: bold;display: inline-block;line-height: 1.2em;}#sk-container-id-2 div.sk-label-container {text-align: center;}#sk-container-id-2 div.sk-container {/* jupyter's `normalize.less` sets `[hidden] { display: none; }` but bootstrap.min.css set `[hidden] { display: none !important; }` so we also need the `!important` here to be able to override the default hidden behavior on the sphinx rendered scikit-learn.org. See: https://github.com/scikit-learn/scikit-learn/issues/21755 */display: inline-block !important;position: relative;}#sk-container-id-2 div.sk-text-repr-fallback {display: none;}</style><div id=\"sk-container-id-2\" class=\"sk-top-container\"><div class=\"sk-text-repr-fallback\"><pre>LogisticRegression(C=1e-06)</pre><b>In a Jupyter environment, please rerun this cell to show the HTML representation or trust the notebook. <br />On GitHub, the HTML representation is unable to render, please try loading this page with nbviewer.org.</b></div><div class=\"sk-container\" hidden><div class=\"sk-item\"><div class=\"sk-estimator sk-toggleable\"><input class=\"sk-toggleable__control sk-hidden--visually\" id=\"sk-estimator-id-2\" type=\"checkbox\" checked><label for=\"sk-estimator-id-2\" class=\"sk-toggleable__label sk-toggleable__label-arrow\">LogisticRegression</label><div class=\"sk-toggleable__content\"><pre>LogisticRegression(C=1e-06)</pre></div></div></div></div></div>"
            ]
          },
          "metadata": {},
          "execution_count": 51
        }
      ]
    },
    {
      "cell_type": "code",
      "source": [
        "# storage variables\n",
        "train_accuracies = []\n",
        "test_accuracies = []\n",
        "c_vals = np.logspace(-7, -2.5, num = 100) # Penalty parameters to test\n",
        "\n",
        "## Hyperparameter tuning for loop\n",
        "for c_val in c_vals: # For every penalty parameter we're testing\n",
        "\n",
        "   # Fit model on training data\n",
        "   logit_tuned = LogisticRegression(penalty = 'l2', C = c_val)\n",
        "   logit_tuned.fit(X_train, y_train)\n",
        "\n",
        "   # Store training and test accuracies\n",
        "   train_accuracies.append(logit_tuned.score(X_train,y_train))\n",
        "   test_accuracies.append(logit_tuned.score(X_test,y_test))"
      ],
      "metadata": {
        "id": "Vd0eWwP-ZWFu"
      },
      "execution_count": null,
      "outputs": []
    },
    {
      "cell_type": "code",
      "source": [
        "# plot train and test accuracies\n",
        "fig = plt.figure()\n",
        "ax = fig.add_subplot(1,1,1)\n",
        "ax.plot(c_vals, train_accuracies, label = 'train')\n",
        "ax.plot(c_vals, test_accuracies, label = 'test')\n",
        "ax.set_xlabel('Values of Tuning Parameter (C)')\n",
        "ax.set_ylabel('Accuracy')\n",
        "ax.legend(loc = 'best')"
      ],
      "metadata": {
        "id": "SPftYs9KcV7U",
        "colab": {
          "base_uri": "https://localhost:8080/",
          "height": 467
        },
        "outputId": "3bc23bd0-6441-4082-c309-1a42aa1439d5"
      },
      "execution_count": null,
      "outputs": [
        {
          "output_type": "execute_result",
          "data": {
            "text/plain": [
              "<matplotlib.legend.Legend at 0x7fd96fd54be0>"
            ]
          },
          "metadata": {},
          "execution_count": 53
        },
        {
          "output_type": "display_data",
          "data": {
            "text/plain": [
              "<Figure size 640x480 with 1 Axes>"
            ],
            "image/png": "[encoded data removed]"
          },
          "metadata": {}
        }
      ]
    },
    {
      "cell_type": "code",
      "source": [
        "## Determining maximizing C on test set\n",
        "print('Maximum test accuracy: ', np.round(test_accuracies[np.argmax(test_accuracies)], 3))\n",
        "print('Value of C that achieves max test accuracy: ', np.round(c_vals[np.argmax(test_accuracies)],5))"
      ],
      "metadata": {
        "id": "2jOk0cTYc9e-",
        "colab": {
          "base_uri": "https://localhost:8080/"
        },
        "outputId": "4cca6e6a-37b7-4878-ec97-cf36baf8746f"
      },
      "execution_count": null,
      "outputs": [
        {
          "output_type": "stream",
          "name": "stdout",
          "text": [
            "Maximum test accuracy:  0.614\n",
            "Value of C that achieves max test accuracy:  0.00316\n"
          ]
        }
      ]
    },
    {
      "cell_type": "markdown",
      "source": [
        "## Decision Tree Model\n"
      ],
      "metadata": {
        "id": "VwfNMMrkVrgr"
      }
    },
    {
      "cell_type": "code",
      "source": [
        "tree = DecisionTreeClassifier()\n",
        "tree.fit(X_train,y_train)"
      ],
      "metadata": {
        "id": "r_J4JjSsVxxW",
        "colab": {
          "base_uri": "https://localhost:8080/",
          "height": 75
        },
        "outputId": "f0ea3dc1-4498-46cd-9425-9db37da63e4d"
      },
      "execution_count": null,
      "outputs": [
        {
          "output_type": "execute_result",
          "data": {
            "text/plain": [
              "DecisionTreeClassifier()"
            ],
            "text/html": [
              "<style>#sk-container-id-3 {color: black;background-color: white;}#sk-container-id-3 pre{padding: 0;}#sk-container-id-3 div.sk-toggleable {background-color: white;}#sk-container-id-3 label.sk-toggleable__label {cursor: pointer;display: block;width: 100%;margin-bottom: 0;padding: 0.3em;box-sizing: border-box;text-align: center;}#sk-container-id-3 label.sk-toggleable__label-arrow:before {content: \"▸\";float: left;margin-right: 0.25em;color: #696969;}#sk-container-id-3 label.sk-toggleable__label-arrow:hover:before {color: black;}#sk-container-id-3 div.sk-estimator:hover label.sk-toggleable__label-arrow:before {color: black;}#sk-container-id-3 div.sk-toggleable__content {max-height: 0;max-width: 0;overflow: hidden;text-align: left;background-color: #f0f8ff;}#sk-container-id-3 div.sk-toggleable__content pre {margin: 0.2em;color: black;border-radius: 0.25em;background-color: #f0f8ff;}#sk-container-id-3 input.sk-toggleable__control:checked~div.sk-toggleable__content {max-height: 200px;max-width: 100%;overflow: auto;}#sk-container-id-3 input.sk-toggleable__control:checked~label.sk-toggleable__label-arrow:before {content: \"▾\";}#sk-container-id-3 div.sk-estimator input.sk-toggleable__control:checked~label.sk-toggleable__label {background-color: #d4ebff;}#sk-container-id-3 div.sk-label input.sk-toggleable__control:checked~label.sk-toggleable__label {background-color: #d4ebff;}#sk-container-id-3 input.sk-hidden--visually {border: 0;clip: rect(1px 1px 1px 1px);clip: rect(1px, 1px, 1px, 1px);height: 1px;margin: -1px;overflow: hidden;padding: 0;position: absolute;width: 1px;}#sk-container-id-3 div.sk-estimator {font-family: monospace;background-color: #f0f8ff;border: 1px dotted black;border-radius: 0.25em;box-sizing: border-box;margin-bottom: 0.5em;}#sk-container-id-3 div.sk-estimator:hover {background-color: #d4ebff;}#sk-container-id-3 div.sk-parallel-item::after {content: \"\";width: 100%;border-bottom: 1px solid gray;flex-grow: 1;}#sk-container-id-3 div.sk-label:hover label.sk-toggleable__label {background-color: #d4ebff;}#sk-container-id-3 div.sk-serial::before {content: \"\";position: absolute;border-left: 1px solid gray;box-sizing: border-box;top: 0;bottom: 0;left: 50%;z-index: 0;}#sk-container-id-3 div.sk-serial {display: flex;flex-direction: column;align-items: center;background-color: white;padding-right: 0.2em;padding-left: 0.2em;position: relative;}#sk-container-id-3 div.sk-item {position: relative;z-index: 1;}#sk-container-id-3 div.sk-parallel {display: flex;align-items: stretch;justify-content: center;background-color: white;position: relative;}#sk-container-id-3 div.sk-item::before, #sk-container-id-3 div.sk-parallel-item::before {content: \"\";position: absolute;border-left: 1px solid gray;box-sizing: border-box;top: 0;bottom: 0;left: 50%;z-index: -1;}#sk-container-id-3 div.sk-parallel-item {display: flex;flex-direction: column;z-index: 1;position: relative;background-color: white;}#sk-container-id-3 div.sk-parallel-item:first-child::after {align-self: flex-end;width: 50%;}#sk-container-id-3 div.sk-parallel-item:last-child::after {align-self: flex-start;width: 50%;}#sk-container-id-3 div.sk-parallel-item:only-child::after {width: 0;}#sk-container-id-3 div.sk-dashed-wrapped {border: 1px dashed gray;margin: 0 0.4em 0.5em 0.4em;box-sizing: border-box;padding-bottom: 0.4em;background-color: white;}#sk-container-id-3 div.sk-label label {font-family: monospace;font-weight: bold;display: inline-block;line-height: 1.2em;}#sk-container-id-3 div.sk-label-container {text-align: center;}#sk-container-id-3 div.sk-container {/* jupyter's `normalize.less` sets `[hidden] { display: none; }` but bootstrap.min.css set `[hidden] { display: none !important; }` so we also need the `!important` here to be able to override the default hidden behavior on the sphinx rendered scikit-learn.org. See: https://github.com/scikit-learn/scikit-learn/issues/21755 */display: inline-block !important;position: relative;}#sk-container-id-3 div.sk-text-repr-fallback {display: none;}</style><div id=\"sk-container-id-3\" class=\"sk-top-container\"><div class=\"sk-text-repr-fallback\"><pre>DecisionTreeClassifier()</pre><b>In a Jupyter environment, please rerun this cell to show the HTML representation or trust the notebook. <br />On GitHub, the HTML representation is unable to render, please try loading this page with nbviewer.org.</b></div><div class=\"sk-container\" hidden><div class=\"sk-item\"><div class=\"sk-estimator sk-toggleable\"><input class=\"sk-toggleable__control sk-hidden--visually\" id=\"sk-estimator-id-3\" type=\"checkbox\" checked><label for=\"sk-estimator-id-3\" class=\"sk-toggleable__label sk-toggleable__label-arrow\">DecisionTreeClassifier</label><div class=\"sk-toggleable__content\"><pre>DecisionTreeClassifier()</pre></div></div></div></div></div>"
            ]
          },
          "metadata": {},
          "execution_count": 55
        }
      ]
    },
    {
      "cell_type": "code",
      "source": [
        "sklearn.tree.plot_tree(tree,max_depth=1)"
      ],
      "metadata": {
        "id": "G_MwQAF6Wksj",
        "colab": {
          "base_uri": "https://localhost:8080/",
          "height": 531
        },
        "outputId": "90d98fd0-887e-4ed4-eb1c-a25815e57ccd"
      },
      "execution_count": null,
      "outputs": [
        {
          "output_type": "execute_result",
          "data": {
            "text/plain": [
              "[Text(0.5, 0.8333333333333334, 'x[7] <= 0.5\\ngini = 0.627\\nsamples = 266\\nvalue = [75, 60, 131]'),\n",
              " Text(0.25, 0.5, 'x[4] <= 1.975\\ngini = 0.656\\nsamples = 169\\nvalue = [70, 52, 47]'),\n",
              " Text(0.125, 0.16666666666666666, '\\n  (...)  \\n'),\n",
              " Text(0.375, 0.16666666666666666, '\\n  (...)  \\n'),\n",
              " Text(0.75, 0.5, 'x[5] <= 3.45\\ngini = 0.241\\nsamples = 97\\nvalue = [5, 8, 84]'),\n",
              " Text(0.625, 0.16666666666666666, '\\n  (...)  \\n'),\n",
              " Text(0.875, 0.16666666666666666, '\\n  (...)  \\n')]"
            ]
          },
          "metadata": {},
          "execution_count": 56
        },
        {
          "output_type": "display_data",
          "data": {
            "text/plain": [
              "<Figure size 640x480 with 1 Axes>"
            ],
            "image/png": "[encoded data removed]"
          },
          "metadata": {}
        }
      ]
    },
    {
      "cell_type": "code",
      "source": [
        "X_train"
      ],
      "metadata": {
        "id": "4uhIm1ZVYEew",
        "colab": {
          "base_uri": "https://localhost:8080/",
          "height": 505
        },
        "outputId": "301c007e-4b12-4806-b0b3-a46a77a77cb6"
      },
      "execution_count": null,
      "outputs": [
        {
          "output_type": "execute_result",
          "data": {
            "text/plain": [
              "     H_Ranking_Prior_Season  A_Ranking_Prior_Season  HTHG  HTAG  B365H  B365D  \\\n",
              "170                       6                      18     1     0   1.29   5.50   \n",
              "308                      13                      14     0     0   2.50   3.25   \n",
              "212                      12                       9     0     0   3.80   3.50   \n",
              "17                       18                       7     1     0   4.20   3.60   \n",
              "234                       8                       5     0     0   4.75   4.00   \n",
              "..                      ...                     ...   ...   ...    ...    ...   \n",
              "323                       4                       6     0     2   2.80   3.60   \n",
              "192                      15                      14     0     0   2.88   3.25   \n",
              "117                      18                       4     1     0   5.00   3.80   \n",
              "47                        7                       4     0     1   3.60   3.80   \n",
              "172                      17                       7     1     1   2.60   3.50   \n",
              "\n",
              "     B365A  half_time_GD  HomeTeam_Arsenal  HomeTeam_Aston Villa  ...  \\\n",
              "170  11.00             1                 0                     0  ...   \n",
              "308   2.88             0                 0                     0  ...   \n",
              "212   2.00             0                 0                     0  ...   \n",
              "17    1.85             1                 0                     0  ...   \n",
              "234   1.70             0                 0                     0  ...   \n",
              "..     ...           ...               ...                   ...  ...   \n",
              "323   2.40            -2                 0                     0  ...   \n",
              "192   2.55             0                 0                     0  ...   \n",
              "117   1.70             1                 0                     0  ...   \n",
              "47    1.95            -1                 0                     0  ...   \n",
              "172   2.60             0                 0                     0  ...   \n",
              "\n",
              "     AwayTeam_Man United  AwayTeam_Newcastle  AwayTeam_Nott'm Forest  \\\n",
              "170                    0                   0                       0   \n",
              "308                    0                   0                       0   \n",
              "212                    0                   0                       0   \n",
              "17                     0                   0                       0   \n",
              "234                    0                   0                       0   \n",
              "..                   ...                 ...                     ...   \n",
              "323                    1                   0                       0   \n",
              "192                    0                   0                       0   \n",
              "117                    0                   0                       0   \n",
              "47                     0                   0                       0   \n",
              "172                    0                   0                       0   \n",
              "\n",
              "     AwayTeam_Southampton  AwayTeam_Tottenham  AwayTeam_West Ham  \\\n",
              "170                     0                   0                  0   \n",
              "308                     0                   0                  0   \n",
              "212                     0                   0                  0   \n",
              "17                      0                   0                  1   \n",
              "234                     0                   0                  0   \n",
              "..                    ...                 ...                ...   \n",
              "323                     0                   0                  0   \n",
              "192                     0                   0                  0   \n",
              "117                     0                   1                  0   \n",
              "47                      0                   1                  0   \n",
              "172                     0                   0                  1   \n",
              "\n",
              "     AwayTeam_Wolves  HTR_A  HTR_D  HTR_H  \n",
              "170                0      0      0      1  \n",
              "308                0      0      1      0  \n",
              "212                0      0      1      0  \n",
              "17                 0      0      0      1  \n",
              "234                0      0      1      0  \n",
              "..               ...    ...    ...    ...  \n",
              "323                0      1      0      0  \n",
              "192                0      0      1      0  \n",
              "117                0      0      0      1  \n",
              "47                 0      1      0      0  \n",
              "172                0      0      1      0  \n",
              "\n",
              "[266 rows x 51 columns]"
            ],
            "text/html": [
              "\n",
              "  <div id=\"df-aef5e0b1-2cf5-487b-bfd5-373657137cd1\">\n",
              "    <div class=\"colab-df-container\">\n",
              "      <div>\n",
              "<style scoped>\n",
              "    .dataframe tbody tr th:only-of-type {\n",
              "        vertical-align: middle;\n",
              "    }\n",
              "\n",
              "    .dataframe tbody tr th {\n",
              "        vertical-align: top;\n",
              "    }\n",
              "\n",
              "    .dataframe thead th {\n",
              "        text-align: right;\n",
              "    }\n",
              "</style>\n",
              "<table border=\"1\" class=\"dataframe\">\n",
              "  <thead>\n",
              "    <tr style=\"text-align: right;\">\n",
              "      <th></th>\n",
              "      <th>H_Ranking_Prior_Season</th>\n",
              "      <th>A_Ranking_Prior_Season</th>\n",
              "      <th>HTHG</th>\n",
              "      <th>HTAG</th>\n",
              "      <th>B365H</th>\n",
              "      <th>B365D</th>\n",
              "      <th>B365A</th>\n",
              "      <th>half_time_GD</th>\n",
              "      <th>HomeTeam_Arsenal</th>\n",
              "      <th>HomeTeam_Aston Villa</th>\n",
              "      <th>...</th>\n",
              "      <th>AwayTeam_Man United</th>\n",
              "      <th>AwayTeam_Newcastle</th>\n",
              "      <th>AwayTeam_Nott'm Forest</th>\n",
              "      <th>AwayTeam_Southampton</th>\n",
              "      <th>AwayTeam_Tottenham</th>\n",
              "      <th>AwayTeam_West Ham</th>\n",
              "      <th>AwayTeam_Wolves</th>\n",
              "      <th>HTR_A</th>\n",
              "      <th>HTR_D</th>\n",
              "      <th>HTR_H</th>\n",
              "    </tr>\n",
              "  </thead>\n",
              "  <tbody>\n",
              "    <tr>\n",
              "      <th>170</th>\n",
              "      <td>6</td>\n",
              "      <td>18</td>\n",
              "      <td>1</td>\n",
              "      <td>0</td>\n",
              "      <td>1.29</td>\n",
              "      <td>5.50</td>\n",
              "      <td>11.00</td>\n",
              "      <td>1</td>\n",
              "      <td>0</td>\n",
              "      <td>0</td>\n",
              "      <td>...</td>\n",
              "      <td>0</td>\n",
              "      <td>0</td>\n",
              "      <td>0</td>\n",
              "      <td>0</td>\n",
              "      <td>0</td>\n",
              "      <td>0</td>\n",
              "      <td>0</td>\n",
              "      <td>0</td>\n",
              "      <td>0</td>\n",
              "      <td>1</td>\n",
              "    </tr>\n",
              "    <tr>\n",
              "      <th>308</th>\n",
              "      <td>13</td>\n",
              "      <td>14</td>\n",
              "      <td>0</td>\n",
              "      <td>0</td>\n",
              "      <td>2.50</td>\n",
              "      <td>3.25</td>\n",
              "      <td>2.88</td>\n",
              "      <td>0</td>\n",
              "      <td>0</td>\n",
              "      <td>0</td>\n",
              "      <td>...</td>\n",
              "      <td>0</td>\n",
              "      <td>0</td>\n",
              "      <td>0</td>\n",
              "      <td>0</td>\n",
              "      <td>0</td>\n",
              "      <td>0</td>\n",
              "      <td>0</td>\n",
              "      <td>0</td>\n",
              "      <td>1</td>\n",
              "      <td>0</td>\n",
              "    </tr>\n",
              "    <tr>\n",
              "      <th>212</th>\n",
              "      <td>12</td>\n",
              "      <td>9</td>\n",
              "      <td>0</td>\n",
              "      <td>0</td>\n",
              "      <td>3.80</td>\n",
              "      <td>3.50</td>\n",
              "      <td>2.00</td>\n",
              "      <td>0</td>\n",
              "      <td>0</td>\n",
              "      <td>0</td>\n",
              "      <td>...</td>\n",
              "      <td>0</td>\n",
              "      <td>0</td>\n",
              "      <td>0</td>\n",
              "      <td>0</td>\n",
              "      <td>0</td>\n",
              "      <td>0</td>\n",
              "      <td>0</td>\n",
              "      <td>0</td>\n",
              "      <td>1</td>\n",
              "      <td>0</td>\n",
              "    </tr>\n",
              "    <tr>\n",
              "      <th>17</th>\n",
              "      <td>18</td>\n",
              "      <td>7</td>\n",
              "      <td>1</td>\n",
              "      <td>0</td>\n",
              "      <td>4.20</td>\n",
              "      <td>3.60</td>\n",
              "      <td>1.85</td>\n",
              "      <td>1</td>\n",
              "      <td>0</td>\n",
              "      <td>0</td>\n",
              "      <td>...</td>\n",
              "      <td>0</td>\n",
              "      <td>0</td>\n",
              "      <td>0</td>\n",
              "      <td>0</td>\n",
              "      <td>0</td>\n",
              "      <td>1</td>\n",
              "      <td>0</td>\n",
              "      <td>0</td>\n",
              "      <td>0</td>\n",
              "      <td>1</td>\n",
              "    </tr>\n",
              "    <tr>\n",
              "      <th>234</th>\n",
              "      <td>8</td>\n",
              "      <td>5</td>\n",
              "      <td>0</td>\n",
              "      <td>0</td>\n",
              "      <td>4.75</td>\n",
              "      <td>4.00</td>\n",
              "      <td>1.70</td>\n",
              "      <td>0</td>\n",
              "      <td>0</td>\n",
              "      <td>0</td>\n",
              "      <td>...</td>\n",
              "      <td>0</td>\n",
              "      <td>0</td>\n",
              "      <td>0</td>\n",
              "      <td>0</td>\n",
              "      <td>0</td>\n",
              "      <td>0</td>\n",
              "      <td>0</td>\n",
              "      <td>0</td>\n",
              "      <td>1</td>\n",
              "      <td>0</td>\n",
              "    </tr>\n",
              "    <tr>\n",
              "      <th>...</th>\n",
              "      <td>...</td>\n",
              "      <td>...</td>\n",
              "      <td>...</td>\n",
              "      <td>...</td>\n",
              "      <td>...</td>\n",
              "      <td>...</td>\n",
              "      <td>...</td>\n",
              "      <td>...</td>\n",
              "      <td>...</td>\n",
              "      <td>...</td>\n",
              "      <td>...</td>\n",
              "      <td>...</td>\n",
              "      <td>...</td>\n",
              "      <td>...</td>\n",
              "      <td>...</td>\n",
              "      <td>...</td>\n",
              "      <td>...</td>\n",
              "      <td>...</td>\n",
              "      <td>...</td>\n",
              "      <td>...</td>\n",
              "      <td>...</td>\n",
              "    </tr>\n",
              "    <tr>\n",
              "      <th>323</th>\n",
              "      <td>4</td>\n",
              "      <td>6</td>\n",
              "      <td>0</td>\n",
              "      <td>2</td>\n",
              "      <td>2.80</td>\n",
              "      <td>3.60</td>\n",
              "      <td>2.40</td>\n",
              "      <td>-2</td>\n",
              "      <td>0</td>\n",
              "      <td>0</td>\n",
              "      <td>...</td>\n",
              "      <td>1</td>\n",
              "      <td>0</td>\n",
              "      <td>0</td>\n",
              "      <td>0</td>\n",
              "      <td>0</td>\n",
              "      <td>0</td>\n",
              "      <td>0</td>\n",
              "      <td>1</td>\n",
              "      <td>0</td>\n",
              "      <td>0</td>\n",
              "    </tr>\n",
              "    <tr>\n",
              "      <th>192</th>\n",
              "      <td>15</td>\n",
              "      <td>14</td>\n",
              "      <td>0</td>\n",
              "      <td>0</td>\n",
              "      <td>2.88</td>\n",
              "      <td>3.25</td>\n",
              "      <td>2.55</td>\n",
              "      <td>0</td>\n",
              "      <td>0</td>\n",
              "      <td>0</td>\n",
              "      <td>...</td>\n",
              "      <td>0</td>\n",
              "      <td>0</td>\n",
              "      <td>0</td>\n",
              "      <td>0</td>\n",
              "      <td>0</td>\n",
              "      <td>0</td>\n",
              "      <td>0</td>\n",
              "      <td>0</td>\n",
              "      <td>1</td>\n",
              "      <td>0</td>\n",
              "    </tr>\n",
              "    <tr>\n",
              "      <th>117</th>\n",
              "      <td>18</td>\n",
              "      <td>4</td>\n",
              "      <td>1</td>\n",
              "      <td>0</td>\n",
              "      <td>5.00</td>\n",
              "      <td>3.80</td>\n",
              "      <td>1.70</td>\n",
              "      <td>1</td>\n",
              "      <td>0</td>\n",
              "      <td>0</td>\n",
              "      <td>...</td>\n",
              "      <td>0</td>\n",
              "      <td>0</td>\n",
              "      <td>0</td>\n",
              "      <td>0</td>\n",
              "      <td>1</td>\n",
              "      <td>0</td>\n",
              "      <td>0</td>\n",
              "      <td>0</td>\n",
              "      <td>0</td>\n",
              "      <td>1</td>\n",
              "    </tr>\n",
              "    <tr>\n",
              "      <th>47</th>\n",
              "      <td>7</td>\n",
              "      <td>4</td>\n",
              "      <td>0</td>\n",
              "      <td>1</td>\n",
              "      <td>3.60</td>\n",
              "      <td>3.80</td>\n",
              "      <td>1.95</td>\n",
              "      <td>-1</td>\n",
              "      <td>0</td>\n",
              "      <td>0</td>\n",
              "      <td>...</td>\n",
              "      <td>0</td>\n",
              "      <td>0</td>\n",
              "      <td>0</td>\n",
              "      <td>0</td>\n",
              "      <td>1</td>\n",
              "      <td>0</td>\n",
              "      <td>0</td>\n",
              "      <td>1</td>\n",
              "      <td>0</td>\n",
              "      <td>0</td>\n",
              "    </tr>\n",
              "    <tr>\n",
              "      <th>172</th>\n",
              "      <td>17</td>\n",
              "      <td>7</td>\n",
              "      <td>1</td>\n",
              "      <td>1</td>\n",
              "      <td>2.60</td>\n",
              "      <td>3.50</td>\n",
              "      <td>2.60</td>\n",
              "      <td>0</td>\n",
              "      <td>0</td>\n",
              "      <td>0</td>\n",
              "      <td>...</td>\n",
              "      <td>0</td>\n",
              "      <td>0</td>\n",
              "      <td>0</td>\n",
              "      <td>0</td>\n",
              "      <td>0</td>\n",
              "      <td>1</td>\n",
              "      <td>0</td>\n",
              "      <td>0</td>\n",
              "      <td>1</td>\n",
              "      <td>0</td>\n",
              "    </tr>\n",
              "  </tbody>\n",
              "</table>\n",
              "<p>266 rows × 51 columns</p>\n",
              "</div>\n",
              "      <button class=\"colab-df-convert\" onclick=\"convertToInteractive('df-aef5e0b1-2cf5-487b-bfd5-373657137cd1')\"\n",
              "              title=\"Convert this dataframe to an interactive table.\"\n",
              "              style=\"display:none;\">\n",
              "        \n",
              "  <svg xmlns=\"http://www.w3.org/2000/svg\" height=\"24px\"viewBox=\"0 0 24 24\"\n",
              "       width=\"24px\">\n",
              "    <path d=\"M0 0h24v24H0V0z\" fill=\"none\"/>\n",
              "    <path d=\"M18.56 5.44l.94 2.06.94-2.06 2.06-.94-2.06-.94-.94-2.06-.94 2.06-2.06.94zm-11 1L8.5 8.5l.94-2.06 2.06-.94-2.06-.94L8.5 2.5l-.94 2.06-2.06.94zm10 10l.94 2.06.94-2.06 2.06-.94-2.06-.94-.94-2.06-.94 2.06-2.06.94z\"/><path d=\"M17.41 7.96l-1.37-1.37c-.4-.4-.92-.59-1.43-.59-.52 0-1.04.2-1.43.59L10.3 9.45l-7.72 7.72c-.78.78-.78 2.05 0 2.83L4 21.41c.39.39.9.59 1.41.59.51 0 1.02-.2 1.41-.59l7.78-7.78 2.81-2.81c.8-.78.8-2.07 0-2.86zM5.41 20L4 18.59l7.72-7.72 1.47 1.35L5.41 20z\"/>\n",
              "  </svg>\n",
              "      </button>\n",
              "      \n",
              "  <style>\n",
              "    .colab-df-container {\n",
              "      display:flex;\n",
              "      flex-wrap:wrap;\n",
              "      gap: 12px;\n",
              "    }\n",
              "\n",
              "    .colab-df-convert {\n",
              "      background-color: #E8F0FE;\n",
              "      border: none;\n",
              "      border-radius: 50%;\n",
              "      cursor: pointer;\n",
              "      display: none;\n",
              "      fill: #1967D2;\n",
              "      height: 32px;\n",
              "      padding: 0 0 0 0;\n",
              "      width: 32px;\n",
              "    }\n",
              "\n",
              "    .colab-df-convert:hover {\n",
              "      background-color: #E2EBFA;\n",
              "      box-shadow: 0px 1px 2px rgba(60, 64, 67, 0.3), 0px 1px 3px 1px rgba(60, 64, 67, 0.15);\n",
              "      fill: #174EA6;\n",
              "    }\n",
              "\n",
              "    [theme=dark] .colab-df-convert {\n",
              "      background-color: #3B4455;\n",
              "      fill: #D2E3FC;\n",
              "    }\n",
              "\n",
              "    [theme=dark] .colab-df-convert:hover {\n",
              "      background-color: #434B5C;\n",
              "      box-shadow: 0px 1px 3px 1px rgba(0, 0, 0, 0.15);\n",
              "      filter: drop-shadow(0px 1px 2px rgba(0, 0, 0, 0.3));\n",
              "      fill: #FFFFFF;\n",
              "    }\n",
              "  </style>\n",
              "\n",
              "      <script>\n",
              "        const buttonEl =\n",
              "          document.querySelector('#df-aef5e0b1-2cf5-487b-bfd5-373657137cd1 button.colab-df-convert');\n",
              "        buttonEl.style.display =\n",
              "          google.colab.kernel.accessAllowed ? 'block' : 'none';\n",
              "\n",
              "        async function convertToInteractive(key) {\n",
              "          const element = document.querySelector('#df-aef5e0b1-2cf5-487b-bfd5-373657137cd1');\n",
              "          const dataTable =\n",
              "            await google.colab.kernel.invokeFunction('convertToInteractive',\n",
              "                                                     [key], {});\n",
              "          if (!dataTable) return;\n",
              "\n",
              "          const docLinkHtml = 'Like what you see? Visit the ' +\n",
              "            '<a target=\"_blank\" href=https://colab.research.google.com/notebooks/data_table.ipynb>data table notebook</a>'\n",
              "            + ' to learn more about interactive tables.';\n",
              "          element.innerHTML = '';\n",
              "          dataTable['output_type'] = 'display_data';\n",
              "          await google.colab.output.renderOutput(dataTable, element);\n",
              "          const docLink = document.createElement('div');\n",
              "          docLink.innerHTML = docLinkHtml;\n",
              "          element.appendChild(docLink);\n",
              "        }\n",
              "      </script>\n",
              "    </div>\n",
              "  </div>\n",
              "  "
            ]
          },
          "metadata": {},
          "execution_count": 57
        }
      ]
    },
    {
      "cell_type": "code",
      "source": [
        "print('Tree accuracy on train set: ', round(tree.score(X_train,y_train),3))"
      ],
      "metadata": {
        "id": "Nyjzp1mjZsBg",
        "colab": {
          "base_uri": "https://localhost:8080/"
        },
        "outputId": "b13d8c24-443f-44a6-901f-11f50b33b7ae"
      },
      "execution_count": null,
      "outputs": [
        {
          "output_type": "stream",
          "name": "stdout",
          "text": [
            "Tree accuracy on train set:  1.0\n"
          ]
        }
      ]
    },
    {
      "cell_type": "code",
      "source": [
        "print('Tree accuracy on test set: ', round(tree.score(X_test,y_test),3))"
      ],
      "metadata": {
        "id": "jXkZeHnVaN2Z",
        "colab": {
          "base_uri": "https://localhost:8080/"
        },
        "outputId": "7749c3d6-08e6-4496-d7b3-a32bfebcd0cc"
      },
      "execution_count": null,
      "outputs": [
        {
          "output_type": "stream",
          "name": "stdout",
          "text": [
            "Tree accuracy on test set:  0.43\n"
          ]
        }
      ]
    },
    {
      "cell_type": "code",
      "source": [
        "# storage variables\n",
        "train_accuracies = []\n",
        "test_accuracies = []\n",
        "min_vals = np.linspace(0.001, 1, num = 500) # Penalty parameters to test\n",
        "\n",
        "## Hyperparameter tuning for loop\n",
        "for min_val in min_vals: # For every penalty parameter we're testing\n",
        "\n",
        "   # Fit model on training data\n",
        "   tree_tuned = DecisionTreeClassifier(min_samples_split = min_val)\n",
        "   tree_tuned.fit(X_train, y_train)\n",
        "\n",
        "   # Store training and test accuracies\n",
        "   train_accuracies.append(tree_tuned.score(X_train,y_train))\n",
        "   test_accuracies.append(tree_tuned.score(X_test,y_test))"
      ],
      "metadata": {
        "id": "fWnL3t-AbZcY"
      },
      "execution_count": null,
      "outputs": []
    },
    {
      "cell_type": "code",
      "source": [
        "# plot train and test accuracies\n",
        "fig = plt.figure()\n",
        "ax = fig.add_subplot(1,1,1)\n",
        "ax.plot(min_vals, train_accuracies, label = 'train')\n",
        "ax.plot(min_vals, test_accuracies, label = 'test')\n",
        "ax.set_xlabel('Values of Tuning Parameter (min samples)')\n",
        "ax.set_ylabel('Accuracy')\n",
        "ax.legend(loc = 'best')"
      ],
      "metadata": {
        "id": "mmbsb2_AcgFJ",
        "colab": {
          "base_uri": "https://localhost:8080/",
          "height": 467
        },
        "outputId": "8f29d92e-c6be-4210-97a3-cef2bc776531"
      },
      "execution_count": null,
      "outputs": [
        {
          "output_type": "execute_result",
          "data": {
            "text/plain": [
              "<matplotlib.legend.Legend at 0x7fd96fc16230>"
            ]
          },
          "metadata": {},
          "execution_count": 61
        },
        {
          "output_type": "display_data",
          "data": {
            "text/plain": [
              "<Figure size 640x480 with 1 Axes>"
            ],
            "image/png": "[encoded data removed]"
          },
          "metadata": {}
        }
      ]
    },
    {
      "cell_type": "code",
      "source": [
        "print('Maximum test accuracy: ', np.round(test_accuracies[np.argmax(test_accuracies)], 3))\n",
        "print('Value of min samples that achieves max test accuracy: ', np.round(min_vals[np.argmax(test_accuracies)],5))"
      ],
      "metadata": {
        "id": "BIFoqxaUerAT",
        "colab": {
          "base_uri": "https://localhost:8080/"
        },
        "outputId": "2d903742-d223-450a-a306-8d05430d12db"
      },
      "execution_count": null,
      "outputs": [
        {
          "output_type": "stream",
          "name": "stdout",
          "text": [
            "Maximum test accuracy:  0.632\n",
            "Value of min samples that achieves max test accuracy:  0.13513\n"
          ]
        }
      ]
    },
    {
      "cell_type": "markdown",
      "source": [
        "## Random Forest Model"
      ],
      "metadata": {
        "id": "2Tr18NnFjfTg"
      }
    },
    {
      "cell_type": "code",
      "source": [
        "forest = RandomForestClassifier()\n",
        "forest.fit(X_train,y_train)"
      ],
      "metadata": {
        "id": "zimColCHjhfM",
        "colab": {
          "base_uri": "https://localhost:8080/",
          "height": 75
        },
        "outputId": "0f3c416c-2738-4234-a457-322d703701c6"
      },
      "execution_count": null,
      "outputs": [
        {
          "output_type": "execute_result",
          "data": {
            "text/plain": [
              "RandomForestClassifier()"
            ],
            "text/html": [
              "<style>#sk-container-id-4 {color: black;background-color: white;}#sk-container-id-4 pre{padding: 0;}#sk-container-id-4 div.sk-toggleable {background-color: white;}#sk-container-id-4 label.sk-toggleable__label {cursor: pointer;display: block;width: 100%;margin-bottom: 0;padding: 0.3em;box-sizing: border-box;text-align: center;}#sk-container-id-4 label.sk-toggleable__label-arrow:before {content: \"▸\";float: left;margin-right: 0.25em;color: #696969;}#sk-container-id-4 label.sk-toggleable__label-arrow:hover:before {color: black;}#sk-container-id-4 div.sk-estimator:hover label.sk-toggleable__label-arrow:before {color: black;}#sk-container-id-4 div.sk-toggleable__content {max-height: 0;max-width: 0;overflow: hidden;text-align: left;background-color: #f0f8ff;}#sk-container-id-4 div.sk-toggleable__content pre {margin: 0.2em;color: black;border-radius: 0.25em;background-color: #f0f8ff;}#sk-container-id-4 input.sk-toggleable__control:checked~div.sk-toggleable__content {max-height: 200px;max-width: 100%;overflow: auto;}#sk-container-id-4 input.sk-toggleable__control:checked~label.sk-toggleable__label-arrow:before {content: \"▾\";}#sk-container-id-4 div.sk-estimator input.sk-toggleable__control:checked~label.sk-toggleable__label {background-color: #d4ebff;}#sk-container-id-4 div.sk-label input.sk-toggleable__control:checked~label.sk-toggleable__label {background-color: #d4ebff;}#sk-container-id-4 input.sk-hidden--visually {border: 0;clip: rect(1px 1px 1px 1px);clip: rect(1px, 1px, 1px, 1px);height: 1px;margin: -1px;overflow: hidden;padding: 0;position: absolute;width: 1px;}#sk-container-id-4 div.sk-estimator {font-family: monospace;background-color: #f0f8ff;border: 1px dotted black;border-radius: 0.25em;box-sizing: border-box;margin-bottom: 0.5em;}#sk-container-id-4 div.sk-estimator:hover {background-color: #d4ebff;}#sk-container-id-4 div.sk-parallel-item::after {content: \"\";width: 100%;border-bottom: 1px solid gray;flex-grow: 1;}#sk-container-id-4 div.sk-label:hover label.sk-toggleable__label {background-color: #d4ebff;}#sk-container-id-4 div.sk-serial::before {content: \"\";position: absolute;border-left: 1px solid gray;box-sizing: border-box;top: 0;bottom: 0;left: 50%;z-index: 0;}#sk-container-id-4 div.sk-serial {display: flex;flex-direction: column;align-items: center;background-color: white;padding-right: 0.2em;padding-left: 0.2em;position: relative;}#sk-container-id-4 div.sk-item {position: relative;z-index: 1;}#sk-container-id-4 div.sk-parallel {display: flex;align-items: stretch;justify-content: center;background-color: white;position: relative;}#sk-container-id-4 div.sk-item::before, #sk-container-id-4 div.sk-parallel-item::before {content: \"\";position: absolute;border-left: 1px solid gray;box-sizing: border-box;top: 0;bottom: 0;left: 50%;z-index: -1;}#sk-container-id-4 div.sk-parallel-item {display: flex;flex-direction: column;z-index: 1;position: relative;background-color: white;}#sk-container-id-4 div.sk-parallel-item:first-child::after {align-self: flex-end;width: 50%;}#sk-container-id-4 div.sk-parallel-item:last-child::after {align-self: flex-start;width: 50%;}#sk-container-id-4 div.sk-parallel-item:only-child::after {width: 0;}#sk-container-id-4 div.sk-dashed-wrapped {border: 1px dashed gray;margin: 0 0.4em 0.5em 0.4em;box-sizing: border-box;padding-bottom: 0.4em;background-color: white;}#sk-container-id-4 div.sk-label label {font-family: monospace;font-weight: bold;display: inline-block;line-height: 1.2em;}#sk-container-id-4 div.sk-label-container {text-align: center;}#sk-container-id-4 div.sk-container {/* jupyter's `normalize.less` sets `[hidden] { display: none; }` but bootstrap.min.css set `[hidden] { display: none !important; }` so we also need the `!important` here to be able to override the default hidden behavior on the sphinx rendered scikit-learn.org. See: https://github.com/scikit-learn/scikit-learn/issues/21755 */display: inline-block !important;position: relative;}#sk-container-id-4 div.sk-text-repr-fallback {display: none;}</style><div id=\"sk-container-id-4\" class=\"sk-top-container\"><div class=\"sk-text-repr-fallback\"><pre>RandomForestClassifier()</pre><b>In a Jupyter environment, please rerun this cell to show the HTML representation or trust the notebook. <br />On GitHub, the HTML representation is unable to render, please try loading this page with nbviewer.org.</b></div><div class=\"sk-container\" hidden><div class=\"sk-item\"><div class=\"sk-estimator sk-toggleable\"><input class=\"sk-toggleable__control sk-hidden--visually\" id=\"sk-estimator-id-4\" type=\"checkbox\" checked><label for=\"sk-estimator-id-4\" class=\"sk-toggleable__label sk-toggleable__label-arrow\">RandomForestClassifier</label><div class=\"sk-toggleable__content\"><pre>RandomForestClassifier()</pre></div></div></div></div></div>"
            ]
          },
          "metadata": {},
          "execution_count": 63
        }
      ]
    },
    {
      "cell_type": "code",
      "source": [
        "print('Random forest accuracy on train set: ', round(forest.score(X_train,y_train),3))"
      ],
      "metadata": {
        "id": "vfj39k9ukKDu",
        "colab": {
          "base_uri": "https://localhost:8080/"
        },
        "outputId": "92d5d4c8-29fe-4876-ef6a-bc97a03bb561"
      },
      "execution_count": null,
      "outputs": [
        {
          "output_type": "stream",
          "name": "stdout",
          "text": [
            "Random forest accuracy on train set:  1.0\n"
          ]
        }
      ]
    },
    {
      "cell_type": "code",
      "source": [
        "print('Random Forest accuracy on test set: ', round(forest.score(X_test,y_test),3))"
      ],
      "metadata": {
        "id": "keickGB1kc0D",
        "colab": {
          "base_uri": "https://localhost:8080/"
        },
        "outputId": "27491e4a-cd5d-4d02-8614-01cea6674abb"
      },
      "execution_count": null,
      "outputs": [
        {
          "output_type": "stream",
          "name": "stdout",
          "text": [
            "Random Forest accuracy on test set:  0.596\n"
          ]
        }
      ]
    },
    {
      "cell_type": "code",
      "source": [
        "# storage variables\n",
        "train_accuracies = []\n",
        "test_accuracies = []\n",
        "min_vals = np.linspace(0.001, 1, num = 10) # Penalty parameters to test\n",
        "nTrees = np.arange(1,1000,step=200)\n",
        "\n",
        "## Hyperparameter tuning for loop\n",
        "for min_val in min_vals: # For every penalty parameter we're testing\n",
        "   for nTree in nTrees:\n",
        "    # Fit model on training data\n",
        "    forest_tuned = RandomForestClassifier(min_samples_split = min_val, n_estimators = nTree)\n",
        "    forest_tuned.fit(X_train, y_train)\n",
        "\n",
        "    # Store training and test accuracies\n",
        "    train_accuracies.append(forest_tuned.score(X_train,y_train))\n",
        "    test_accuracies.append(forest_tuned.score(X_test,y_test))"
      ],
      "metadata": {
        "id": "T7tNLsAvlVNh"
      },
      "execution_count": null,
      "outputs": []
    },
    {
      "cell_type": "code",
      "source": [
        "np.argmax(test_accuracies)"
      ],
      "metadata": {
        "id": "9lmzB4bKqKJf",
        "colab": {
          "base_uri": "https://localhost:8080/"
        },
        "outputId": "a2002349-064b-42d1-daec-ac87756f967d"
      },
      "execution_count": null,
      "outputs": [
        {
          "output_type": "execute_result",
          "data": {
            "text/plain": [
              "12"
            ]
          },
          "metadata": {},
          "execution_count": 67
        }
      ]
    },
    {
      "cell_type": "code",
      "source": [
        "print('Maximum test accuracy: ', np.round(test_accuracies[np.argmax(test_accuracies)], 3))\n",
        "print('Value of min samples that achieves max test accuracy: ', np.round(min_vals[round(np.argmax(test_accuracies)/1000)],5))\n",
        "print('Value of min trees that achieves max test accuracy: ', np.round(nTrees[1],5))"
      ],
      "metadata": {
        "id": "lVq_h3yhnf4G",
        "colab": {
          "base_uri": "https://localhost:8080/"
        },
        "outputId": "4e7f57f6-e2f3-4b1e-d38f-bedcf04ef251"
      },
      "execution_count": null,
      "outputs": [
        {
          "output_type": "stream",
          "name": "stdout",
          "text": [
            "Maximum test accuracy:  0.64\n",
            "Value of min samples that achieves max test accuracy:  0.001\n",
            "Value of min trees that achieves max test accuracy:  201\n"
          ]
        }
      ]
    },
    {
      "cell_type": "code",
      "source": [
        "# Get random forest feature importances\n",
        "\n",
        "importances = forest.feature_importances_\n",
        "feature_names = X_train.columns\n",
        "\n",
        "forest_importances = pd.Series(importances, index=feature_names)\n",
        "\n",
        "fig, ax = plt.subplots()\n",
        "forest_importances[forest_importances > 0.02].sort_values(ascending = False).plot.bar(ax=ax)\n",
        "ax.set_title(\"Feature importances using MDI\")\n",
        "ax.set_ylabel(\"Mean decrease in impurity\")\n",
        "fig.tight_layout()"
      ],
      "metadata": {
        "id": "Cx0RctOVaJSv",
        "colab": {
          "base_uri": "https://localhost:8080/",
          "height": 487
        },
        "outputId": "f5a3e754-28b0-4efe-89ff-8bc1e76a09d8"
      },
      "execution_count": null,
      "outputs": [
        {
          "output_type": "display_data",
          "data": {
            "text/plain": [
              "<Figure size 640x480 with 1 Axes>"
            ],
            "image/png": "[encoded data removed]"
          },
          "metadata": {}
        }
      ]
    }
  ]
}